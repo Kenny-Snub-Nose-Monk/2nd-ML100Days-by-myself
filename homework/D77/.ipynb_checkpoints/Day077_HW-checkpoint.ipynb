{
 "cells": [
  {
   "cell_type": "markdown",
   "metadata": {},
   "source": [
    "## Work\n",
    "1. 請將 Epoch 加到 500 個，並觀察 learning curve 的走勢\n",
    "2. 請將 Optimizer 換成 SGD，並觀察 learning curve 的走勢"
   ]
  },
  {
   "cell_type": "code",
   "execution_count": 1,
   "metadata": {},
   "outputs": [
    {
     "name": "stderr",
     "output_type": "stream",
     "text": [
      "Using TensorFlow backend.\n"
     ]
    }
   ],
   "source": [
    "import os\n",
    "import keras\n",
    "\n",
    "# 本作業可以不需使用 GPU, 將 GPU 設定為 \"無\" (若有 GPU 且想開啟，可設為 \"0\")\n",
    "os.environ[\"CUDA_VISIBLE_DEVICES\"] = \"\""
   ]
  },
  {
   "cell_type": "code",
   "execution_count": 2,
   "metadata": {},
   "outputs": [],
   "source": [
    "# 從 Keras 的內建功能中，取得 train 與 test 資料集\n",
    "train, test = keras.datasets.cifar10.load_data()"
   ]
  },
  {
   "cell_type": "code",
   "execution_count": 3,
   "metadata": {},
   "outputs": [],
   "source": [
    "# 將 X 與 Y 獨立放進變數\n",
    "x_train, y_train = train\n",
    "x_test, y_test = test\n",
    "# 資料前處理 - 標準化\n",
    "x_train = x_train / 255.\n",
    "x_test = x_test / 255.\n",
    "\n",
    "# 將資料從圖形 (RGB) 轉為向量 (Single Vector)\n",
    "x_train = x_train.reshape((len(x_train), -1))\n",
    "x_test = x_test.reshape((len(x_test), -1))\n",
    "\n",
    "# 將目標轉為 one-hot encoding\n",
    "y_train = keras.utils.to_categorical(y_train, num_classes=10)\n",
    "y_test = keras.utils.to_categorical(y_test, num_classes=10)"
   ]
  },
  {
   "cell_type": "code",
   "execution_count": 5,
   "metadata": {},
   "outputs": [],
   "source": [
    "def build_mlp():\n",
    "    \"\"\"Code Here\n",
    "    建立你的神經網路\n",
    "    \"\"\"\n",
    "    input_layer = keras.layers.Input([x_train.shape[-1]])\n",
    "    x = keras.layers.Dense(units=512, activation=\"relu\")(input_layer)\n",
    "    x = keras.layers.Dense(units=128, activation=\"relu\")(x)\n",
    "    x = keras.layers.Dense(units=128, activation=\"relu\")(x)\n",
    "    x = keras.layers.Dense(units=128, activation=\"relu\")(x)\n",
    "    out = keras.layers.Dense(units=10, activation=\"softmax\")(x)\n",
    "    model = keras.models.Model(inputs=[input_layer], outputs=[out])\n",
    "\n",
    "    return model\n",
    "model = build_mlp()"
   ]
  },
  {
   "cell_type": "code",
   "execution_count": 7,
   "metadata": {},
   "outputs": [
    {
     "name": "stdout",
     "output_type": "stream",
     "text": [
      "_________________________________________________________________\n",
      "Layer (type)                 Output Shape              Param #   \n",
      "=================================================================\n",
      "input_2 (InputLayer)         (None, 3072)              0         \n",
      "_________________________________________________________________\n",
      "dense_6 (Dense)              (None, 512)               1573376   \n",
      "_________________________________________________________________\n",
      "dense_7 (Dense)              (None, 128)               65664     \n",
      "_________________________________________________________________\n",
      "dense_8 (Dense)              (None, 128)               16512     \n",
      "_________________________________________________________________\n",
      "dense_9 (Dense)              (None, 128)               16512     \n",
      "_________________________________________________________________\n",
      "dense_10 (Dense)             (None, 10)                1290      \n",
      "=================================================================\n",
      "Total params: 1,673,354\n",
      "Trainable params: 1,673,354\n",
      "Non-trainable params: 0\n",
      "_________________________________________________________________\n"
     ]
    }
   ],
   "source": [
    "\"\"\"\n",
    "Compile 模型\n",
    "\"\"\"\n",
    "# 用 Keras 內建方法檢視模型各層參數量\n",
    "model.summary()\n",
    "\n",
    "SGD = keras.optimizers.SGD(lr=0.001)\n",
    "model.compile(loss=\"categorical_crossentropy\", metrics=[\"accuracy\"], optimizer=SGD)"
   ]
  },
  {
   "cell_type": "code",
   "execution_count": 8,
   "metadata": {
    "scrolled": true
   },
   "outputs": [
    {
     "name": "stderr",
     "output_type": "stream",
     "text": [
      "W0730 13:02:51.569634  7028 deprecation.py:323] From C:\\Users\\AutoUser\\Anaconda3\\envs\\tensorflow\\lib\\site-packages\\tensorflow\\python\\ops\\math_grad.py:1250: add_dispatch_support.<locals>.wrapper (from tensorflow.python.ops.array_ops) is deprecated and will be removed in a future version.\n",
      "Instructions for updating:\n",
      "Use tf.where in 2.0, which has the same broadcast rule as np.where\n",
      "W0730 13:02:51.618604  7028 deprecation_wrapper.py:119] From C:\\Users\\AutoUser\\Anaconda3\\envs\\tensorflow\\lib\\site-packages\\keras\\backend\\tensorflow_backend.py:986: The name tf.assign_add is deprecated. Please use tf.compat.v1.assign_add instead.\n",
      "\n"
     ]
    },
    {
     "name": "stdout",
     "output_type": "stream",
     "text": [
      "Train on 50000 samples, validate on 10000 samples\n",
      "Epoch 1/500\n",
      "50000/50000 [==============================] - 7s 149us/step - loss: 2.3094 - acc: 0.1185 - val_loss: 2.2744 - val_acc: 0.1535\n",
      "Epoch 2/500\n",
      "50000/50000 [==============================] - 8s 154us/step - loss: 2.2576 - acc: 0.1745 - val_loss: 2.2399 - val_acc: 0.1943\n",
      "Epoch 3/500\n",
      "50000/50000 [==============================] - 8s 163us/step - loss: 2.2217 - acc: 0.2052 - val_loss: 2.2021 - val_acc: 0.2168\n",
      "Epoch 4/500\n",
      "50000/50000 [==============================] - 8s 166us/step - loss: 2.1845 - acc: 0.2192 - val_loss: 2.1663 - val_acc: 0.2288\n",
      "Epoch 5/500\n",
      "50000/50000 [==============================] - 7s 138us/step - loss: 2.1486 - acc: 0.2351 - val_loss: 2.1307 - val_acc: 0.2449\n",
      "Epoch 6/500\n",
      "50000/50000 [==============================] - 7s 139us/step - loss: 2.1136 - acc: 0.2499 - val_loss: 2.0970 - val_acc: 0.2538\n",
      "Epoch 7/500\n",
      "50000/50000 [==============================] - 7s 141us/step - loss: 2.0807 - acc: 0.2587 - val_loss: 2.0666 - val_acc: 0.2626\n",
      "Epoch 8/500\n",
      "50000/50000 [==============================] - 8s 157us/step - loss: 2.0507 - acc: 0.2623 - val_loss: 2.0378 - val_acc: 0.2635\n",
      "Epoch 9/500\n",
      "50000/50000 [==============================] - 8s 161us/step - loss: 2.0241 - acc: 0.2693 - val_loss: 2.0131 - val_acc: 0.2730\n",
      "Epoch 10/500\n",
      "50000/50000 [==============================] - 7s 144us/step - loss: 2.0009 - acc: 0.2767 - val_loss: 1.9942 - val_acc: 0.2785\n",
      "Epoch 11/500\n",
      "50000/50000 [==============================] - 7s 138us/step - loss: 1.9808 - acc: 0.2868 - val_loss: 1.9735 - val_acc: 0.2908\n",
      "Epoch 12/500\n",
      "50000/50000 [==============================] - 7s 144us/step - loss: 1.9630 - acc: 0.2950 - val_loss: 1.9578 - val_acc: 0.2984\n",
      "Epoch 13/500\n",
      "50000/50000 [==============================] - 7s 138us/step - loss: 1.9470 - acc: 0.3036 - val_loss: 1.9423 - val_acc: 0.3082\n",
      "Epoch 14/500\n",
      "50000/50000 [==============================] - 7s 138us/step - loss: 1.9327 - acc: 0.3114 - val_loss: 1.9293 - val_acc: 0.3129\n",
      "Epoch 15/500\n",
      "50000/50000 [==============================] - 7s 138us/step - loss: 1.9198 - acc: 0.3169 - val_loss: 1.9183 - val_acc: 0.3212\n",
      "Epoch 16/500\n",
      "50000/50000 [==============================] - 7s 141us/step - loss: 1.9080 - acc: 0.3213 - val_loss: 1.9058 - val_acc: 0.3223\n",
      "Epoch 17/500\n",
      "50000/50000 [==============================] - 7s 143us/step - loss: 1.8973 - acc: 0.3284 - val_loss: 1.8958 - val_acc: 0.3252\n",
      "Epoch 18/500\n",
      "50000/50000 [==============================] - 7s 141us/step - loss: 1.8876 - acc: 0.3312 - val_loss: 1.8862 - val_acc: 0.3346\n",
      "Epoch 19/500\n",
      "50000/50000 [==============================] - 7s 137us/step - loss: 1.8784 - acc: 0.3354 - val_loss: 1.8767 - val_acc: 0.3321\n",
      "Epoch 20/500\n",
      "50000/50000 [==============================] - 7s 138us/step - loss: 1.8696 - acc: 0.3396 - val_loss: 1.8686 - val_acc: 0.3330\n",
      "Epoch 21/500\n",
      "50000/50000 [==============================] - 7s 143us/step - loss: 1.8615 - acc: 0.3422 - val_loss: 1.8605 - val_acc: 0.3441\n",
      "Epoch 22/500\n",
      "50000/50000 [==============================] - 7s 150us/step - loss: 1.8536 - acc: 0.3447 - val_loss: 1.8554 - val_acc: 0.3399\n",
      "Epoch 23/500\n",
      "50000/50000 [==============================] - 7s 147us/step - loss: 1.8461 - acc: 0.3477 - val_loss: 1.8453 - val_acc: 0.3444\n",
      "Epoch 24/500\n",
      "50000/50000 [==============================] - 7s 142us/step - loss: 1.8389 - acc: 0.3505 - val_loss: 1.8399 - val_acc: 0.3467\n",
      "Epoch 25/500\n",
      "50000/50000 [==============================] - 7s 139us/step - loss: 1.8319 - acc: 0.3523 - val_loss: 1.8314 - val_acc: 0.3529\n",
      "Epoch 26/500\n",
      "50000/50000 [==============================] - 7s 136us/step - loss: 1.8251 - acc: 0.3559 - val_loss: 1.8248 - val_acc: 0.3538\n",
      "Epoch 27/500\n",
      "50000/50000 [==============================] - 7s 137us/step - loss: 1.8184 - acc: 0.3582 - val_loss: 1.8183 - val_acc: 0.3569\n",
      "Epoch 28/500\n",
      "50000/50000 [==============================] - 7s 137us/step - loss: 1.8123 - acc: 0.3603 - val_loss: 1.8109 - val_acc: 0.3597\n",
      "Epoch 29/500\n",
      "50000/50000 [==============================] - 7s 137us/step - loss: 1.8060 - acc: 0.3613 - val_loss: 1.8059 - val_acc: 0.3592\n",
      "Epoch 30/500\n",
      "50000/50000 [==============================] - 7s 137us/step - loss: 1.8000 - acc: 0.3648 - val_loss: 1.8012 - val_acc: 0.3662\n",
      "Epoch 31/500\n",
      "50000/50000 [==============================] - 7s 137us/step - loss: 1.7941 - acc: 0.3663 - val_loss: 1.7967 - val_acc: 0.3644\n",
      "Epoch 32/500\n",
      "50000/50000 [==============================] - 7s 137us/step - loss: 1.7880 - acc: 0.3681 - val_loss: 1.7885 - val_acc: 0.3695\n",
      "Epoch 33/500\n",
      "50000/50000 [==============================] - 7s 137us/step - loss: 1.7824 - acc: 0.3714 - val_loss: 1.7828 - val_acc: 0.3684\n",
      "Epoch 34/500\n",
      "50000/50000 [==============================] - 7s 138us/step - loss: 1.7767 - acc: 0.3725 - val_loss: 1.7763 - val_acc: 0.3747\n",
      "Epoch 35/500\n",
      "50000/50000 [==============================] - 7s 138us/step - loss: 1.7716 - acc: 0.3740 - val_loss: 1.7715 - val_acc: 0.3740\n",
      "Epoch 36/500\n",
      "50000/50000 [==============================] - 7s 138us/step - loss: 1.7663 - acc: 0.3771 - val_loss: 1.7673 - val_acc: 0.3771\n",
      "Epoch 37/500\n",
      "50000/50000 [==============================] - 7s 137us/step - loss: 1.7610 - acc: 0.3806 - val_loss: 1.7605 - val_acc: 0.3770\n",
      "Epoch 38/500\n",
      "50000/50000 [==============================] - 7s 137us/step - loss: 1.7561 - acc: 0.3816 - val_loss: 1.7584 - val_acc: 0.3823\n",
      "Epoch 39/500\n",
      "50000/50000 [==============================] - 7s 138us/step - loss: 1.7510 - acc: 0.3822 - val_loss: 1.7534 - val_acc: 0.3798\n",
      "Epoch 40/500\n",
      "50000/50000 [==============================] - 7s 136us/step - loss: 1.7463 - acc: 0.3856 - val_loss: 1.7482 - val_acc: 0.3852\n",
      "Epoch 41/500\n",
      "50000/50000 [==============================] - 7s 137us/step - loss: 1.7415 - acc: 0.3878 - val_loss: 1.7411 - val_acc: 0.3888\n",
      "Epoch 42/500\n",
      "50000/50000 [==============================] - 7s 137us/step - loss: 1.7368 - acc: 0.3884 - val_loss: 1.7374 - val_acc: 0.3894\n",
      "Epoch 43/500\n",
      "50000/50000 [==============================] - 7s 137us/step - loss: 1.7325 - acc: 0.3903 - val_loss: 1.7319 - val_acc: 0.3880\n",
      "Epoch 44/500\n",
      "50000/50000 [==============================] - 7s 138us/step - loss: 1.7276 - acc: 0.3909 - val_loss: 1.7283 - val_acc: 0.3887\n",
      "Epoch 45/500\n",
      "50000/50000 [==============================] - 7s 137us/step - loss: 1.7234 - acc: 0.3940 - val_loss: 1.7284 - val_acc: 0.3847\n",
      "Epoch 46/500\n",
      "50000/50000 [==============================] - 7s 138us/step - loss: 1.7194 - acc: 0.3945 - val_loss: 1.7199 - val_acc: 0.3921\n",
      "Epoch 47/500\n",
      "50000/50000 [==============================] - 7s 138us/step - loss: 1.7146 - acc: 0.3976 - val_loss: 1.7158 - val_acc: 0.3919\n",
      "Epoch 48/500\n",
      "50000/50000 [==============================] - 7s 144us/step - loss: 1.7106 - acc: 0.3967 - val_loss: 1.7115 - val_acc: 0.3976\n",
      "Epoch 49/500\n",
      "50000/50000 [==============================] - 7s 147us/step - loss: 1.7063 - acc: 0.3994 - val_loss: 1.7091 - val_acc: 0.3987\n",
      "Epoch 50/500\n",
      "50000/50000 [==============================] - 7s 147us/step - loss: 1.7025 - acc: 0.4009 - val_loss: 1.7057 - val_acc: 0.3976\n",
      "Epoch 51/500\n",
      "50000/50000 [==============================] - 9s 171us/step - loss: 1.6980 - acc: 0.4025 - val_loss: 1.6983 - val_acc: 0.3994\n",
      "Epoch 52/500\n",
      "50000/50000 [==============================] - 8s 163us/step - loss: 1.6943 - acc: 0.4038 - val_loss: 1.6982 - val_acc: 0.3986\n",
      "Epoch 53/500\n",
      "50000/50000 [==============================] - 7s 142us/step - loss: 1.6905 - acc: 0.4048 - val_loss: 1.6933 - val_acc: 0.4021\n",
      "Epoch 54/500\n",
      "50000/50000 [==============================] - 7s 141us/step - loss: 1.6864 - acc: 0.4074 - val_loss: 1.6881 - val_acc: 0.4045\n",
      "Epoch 55/500\n",
      "50000/50000 [==============================] - 7s 148us/step - loss: 1.6827 - acc: 0.4088 - val_loss: 1.6869 - val_acc: 0.4050\n",
      "Epoch 56/500\n",
      "50000/50000 [==============================] - 8s 154us/step - loss: 1.6789 - acc: 0.4098 - val_loss: 1.6783 - val_acc: 0.4073\n",
      "Epoch 57/500\n",
      "11264/50000 [=====>........................] - ETA: 5s - loss: 1.6737 - acc: 0.4143"
     ]
    },
    {
     "ename": "KeyboardInterrupt",
     "evalue": "",
     "output_type": "error",
     "traceback": [
      "\u001b[1;31m---------------------------------------------------------------------------\u001b[0m",
      "\u001b[1;31mKeyboardInterrupt\u001b[0m                         Traceback (most recent call last)",
      "\u001b[1;32m<ipython-input-8-a5082c884c65>\u001b[0m in \u001b[0;36m<module>\u001b[1;34m\u001b[0m\n\u001b[0;32m      6\u001b[0m           \u001b[0mbatch_size\u001b[0m\u001b[1;33m=\u001b[0m\u001b[1;36m256\u001b[0m\u001b[1;33m,\u001b[0m\u001b[1;33m\u001b[0m\u001b[1;33m\u001b[0m\u001b[0m\n\u001b[0;32m      7\u001b[0m           \u001b[0mvalidation_data\u001b[0m\u001b[1;33m=\u001b[0m\u001b[1;33m(\u001b[0m\u001b[0mx_test\u001b[0m\u001b[1;33m,\u001b[0m \u001b[0my_test\u001b[0m\u001b[1;33m)\u001b[0m\u001b[1;33m,\u001b[0m\u001b[1;33m\u001b[0m\u001b[1;33m\u001b[0m\u001b[0m\n\u001b[1;32m----> 8\u001b[1;33m           shuffle=True)\n\u001b[0m",
      "\u001b[1;32m~\\Anaconda3\\envs\\tensorflow\\lib\\site-packages\\keras\\engine\\training.py\u001b[0m in \u001b[0;36mfit\u001b[1;34m(self, x, y, batch_size, epochs, verbose, callbacks, validation_split, validation_data, shuffle, class_weight, sample_weight, initial_epoch, steps_per_epoch, validation_steps, **kwargs)\u001b[0m\n\u001b[0;32m   1037\u001b[0m                                         \u001b[0minitial_epoch\u001b[0m\u001b[1;33m=\u001b[0m\u001b[0minitial_epoch\u001b[0m\u001b[1;33m,\u001b[0m\u001b[1;33m\u001b[0m\u001b[1;33m\u001b[0m\u001b[0m\n\u001b[0;32m   1038\u001b[0m                                         \u001b[0msteps_per_epoch\u001b[0m\u001b[1;33m=\u001b[0m\u001b[0msteps_per_epoch\u001b[0m\u001b[1;33m,\u001b[0m\u001b[1;33m\u001b[0m\u001b[1;33m\u001b[0m\u001b[0m\n\u001b[1;32m-> 1039\u001b[1;33m                                         validation_steps=validation_steps)\n\u001b[0m\u001b[0;32m   1040\u001b[0m \u001b[1;33m\u001b[0m\u001b[0m\n\u001b[0;32m   1041\u001b[0m     def evaluate(self, x=None, y=None,\n",
      "\u001b[1;32m~\\Anaconda3\\envs\\tensorflow\\lib\\site-packages\\keras\\engine\\training_arrays.py\u001b[0m in \u001b[0;36mfit_loop\u001b[1;34m(model, f, ins, out_labels, batch_size, epochs, verbose, callbacks, val_f, val_ins, shuffle, callback_metrics, initial_epoch, steps_per_epoch, validation_steps)\u001b[0m\n\u001b[0;32m    185\u001b[0m                             ins[:-1], batch_ids) + [ins[-1]]\n\u001b[0;32m    186\u001b[0m                     \u001b[1;32melse\u001b[0m\u001b[1;33m:\u001b[0m\u001b[1;33m\u001b[0m\u001b[1;33m\u001b[0m\u001b[0m\n\u001b[1;32m--> 187\u001b[1;33m                         \u001b[0mins_batch\u001b[0m \u001b[1;33m=\u001b[0m \u001b[0mslice_arrays\u001b[0m\u001b[1;33m(\u001b[0m\u001b[0mins\u001b[0m\u001b[1;33m,\u001b[0m \u001b[0mbatch_ids\u001b[0m\u001b[1;33m)\u001b[0m\u001b[1;33m\u001b[0m\u001b[1;33m\u001b[0m\u001b[0m\n\u001b[0m\u001b[0;32m    188\u001b[0m                 \u001b[1;32mexcept\u001b[0m \u001b[0mTypeError\u001b[0m\u001b[1;33m:\u001b[0m\u001b[1;33m\u001b[0m\u001b[1;33m\u001b[0m\u001b[0m\n\u001b[0;32m    189\u001b[0m                     raise TypeError('TypeError while preparing batch. '\n",
      "\u001b[1;32m~\\Anaconda3\\envs\\tensorflow\\lib\\site-packages\\keras\\utils\\generic_utils.py\u001b[0m in \u001b[0;36mslice_arrays\u001b[1;34m(arrays, start, stop)\u001b[0m\n\u001b[0;32m    524\u001b[0m             \u001b[1;32mif\u001b[0m \u001b[0mhasattr\u001b[0m\u001b[1;33m(\u001b[0m\u001b[0mstart\u001b[0m\u001b[1;33m,\u001b[0m \u001b[1;34m'shape'\u001b[0m\u001b[1;33m)\u001b[0m\u001b[1;33m:\u001b[0m\u001b[1;33m\u001b[0m\u001b[1;33m\u001b[0m\u001b[0m\n\u001b[0;32m    525\u001b[0m                 \u001b[0mstart\u001b[0m \u001b[1;33m=\u001b[0m \u001b[0mstart\u001b[0m\u001b[1;33m.\u001b[0m\u001b[0mtolist\u001b[0m\u001b[1;33m(\u001b[0m\u001b[1;33m)\u001b[0m\u001b[1;33m\u001b[0m\u001b[1;33m\u001b[0m\u001b[0m\n\u001b[1;32m--> 526\u001b[1;33m             \u001b[1;32mreturn\u001b[0m \u001b[1;33m[\u001b[0m\u001b[1;32mNone\u001b[0m \u001b[1;32mif\u001b[0m \u001b[0mx\u001b[0m \u001b[1;32mis\u001b[0m \u001b[1;32mNone\u001b[0m \u001b[1;32melse\u001b[0m \u001b[0mx\u001b[0m\u001b[1;33m[\u001b[0m\u001b[0mstart\u001b[0m\u001b[1;33m]\u001b[0m \u001b[1;32mfor\u001b[0m \u001b[0mx\u001b[0m \u001b[1;32min\u001b[0m \u001b[0marrays\u001b[0m\u001b[1;33m]\u001b[0m\u001b[1;33m\u001b[0m\u001b[1;33m\u001b[0m\u001b[0m\n\u001b[0m\u001b[0;32m    527\u001b[0m         \u001b[1;32melse\u001b[0m\u001b[1;33m:\u001b[0m\u001b[1;33m\u001b[0m\u001b[1;33m\u001b[0m\u001b[0m\n\u001b[0;32m    528\u001b[0m             \u001b[1;32mreturn\u001b[0m \u001b[1;33m[\u001b[0m\u001b[1;32mNone\u001b[0m \u001b[1;32mif\u001b[0m \u001b[0mx\u001b[0m \u001b[1;32mis\u001b[0m \u001b[1;32mNone\u001b[0m \u001b[1;32melse\u001b[0m \u001b[0mx\u001b[0m\u001b[1;33m[\u001b[0m\u001b[0mstart\u001b[0m\u001b[1;33m:\u001b[0m\u001b[0mstop\u001b[0m\u001b[1;33m]\u001b[0m \u001b[1;32mfor\u001b[0m \u001b[0mx\u001b[0m \u001b[1;32min\u001b[0m \u001b[0marrays\u001b[0m\u001b[1;33m]\u001b[0m\u001b[1;33m\u001b[0m\u001b[1;33m\u001b[0m\u001b[0m\n",
      "\u001b[1;32m~\\Anaconda3\\envs\\tensorflow\\lib\\site-packages\\keras\\utils\\generic_utils.py\u001b[0m in \u001b[0;36m<listcomp>\u001b[1;34m(.0)\u001b[0m\n\u001b[0;32m    524\u001b[0m             \u001b[1;32mif\u001b[0m \u001b[0mhasattr\u001b[0m\u001b[1;33m(\u001b[0m\u001b[0mstart\u001b[0m\u001b[1;33m,\u001b[0m \u001b[1;34m'shape'\u001b[0m\u001b[1;33m)\u001b[0m\u001b[1;33m:\u001b[0m\u001b[1;33m\u001b[0m\u001b[1;33m\u001b[0m\u001b[0m\n\u001b[0;32m    525\u001b[0m                 \u001b[0mstart\u001b[0m \u001b[1;33m=\u001b[0m \u001b[0mstart\u001b[0m\u001b[1;33m.\u001b[0m\u001b[0mtolist\u001b[0m\u001b[1;33m(\u001b[0m\u001b[1;33m)\u001b[0m\u001b[1;33m\u001b[0m\u001b[1;33m\u001b[0m\u001b[0m\n\u001b[1;32m--> 526\u001b[1;33m             \u001b[1;32mreturn\u001b[0m \u001b[1;33m[\u001b[0m\u001b[1;32mNone\u001b[0m \u001b[1;32mif\u001b[0m \u001b[0mx\u001b[0m \u001b[1;32mis\u001b[0m \u001b[1;32mNone\u001b[0m \u001b[1;32melse\u001b[0m \u001b[0mx\u001b[0m\u001b[1;33m[\u001b[0m\u001b[0mstart\u001b[0m\u001b[1;33m]\u001b[0m \u001b[1;32mfor\u001b[0m \u001b[0mx\u001b[0m \u001b[1;32min\u001b[0m \u001b[0marrays\u001b[0m\u001b[1;33m]\u001b[0m\u001b[1;33m\u001b[0m\u001b[1;33m\u001b[0m\u001b[0m\n\u001b[0m\u001b[0;32m    527\u001b[0m         \u001b[1;32melse\u001b[0m\u001b[1;33m:\u001b[0m\u001b[1;33m\u001b[0m\u001b[1;33m\u001b[0m\u001b[0m\n\u001b[0;32m    528\u001b[0m             \u001b[1;32mreturn\u001b[0m \u001b[1;33m[\u001b[0m\u001b[1;32mNone\u001b[0m \u001b[1;32mif\u001b[0m \u001b[0mx\u001b[0m \u001b[1;32mis\u001b[0m \u001b[1;32mNone\u001b[0m \u001b[1;32melse\u001b[0m \u001b[0mx\u001b[0m\u001b[1;33m[\u001b[0m\u001b[0mstart\u001b[0m\u001b[1;33m:\u001b[0m\u001b[0mstop\u001b[0m\u001b[1;33m]\u001b[0m \u001b[1;32mfor\u001b[0m \u001b[0mx\u001b[0m \u001b[1;32min\u001b[0m \u001b[0marrays\u001b[0m\u001b[1;33m]\u001b[0m\u001b[1;33m\u001b[0m\u001b[1;33m\u001b[0m\u001b[0m\n",
      "\u001b[1;31mKeyboardInterrupt\u001b[0m: "
     ]
    }
   ],
   "source": [
    "\"\"\"\n",
    "設定要訓練的 Epoch 數\n",
    "\"\"\"\n",
    "model.fit(x_train, y_train, \n",
    "          epochs=500, \n",
    "          batch_size=256, \n",
    "          validation_data=(x_test, y_test), \n",
    "          shuffle=True)"
   ]
  },
  {
   "cell_type": "code",
   "execution_count": null,
   "metadata": {},
   "outputs": [],
   "source": [
    "import matplotlib.pyplot as plt\n",
    "# 以視覺畫方式檢視訓練過程\n",
    "\n",
    "train_loss = model.history.history[\"loss\"]\n",
    "valid_loss = model.history.history[\"val_loss\"]\n",
    "\n",
    "train_acc = model.history.history[\"acc\"]\n",
    "valid_acc = model.history.history[\"val_acc\"]\n",
    "\n",
    "plt.plot(range(len(train_loss)), train_loss, label=\"train loss\")\n",
    "plt.plot(range(len(valid_loss)), valid_loss, label=\"valid loss\")\n",
    "plt.legend()\n",
    "plt.title(\"Loss\")\n",
    "plt.show()\n",
    "\n",
    "plt.plot(range(len(train_acc)), train_acc, label=\"train accuracy\")\n",
    "plt.plot(range(len(valid_acc)), valid_acc, label=\"valid accuracy\")\n",
    "plt.legend()\n",
    "plt.title(\"Accuracy\")\n",
    "plt.show()"
   ]
  },
  {
   "cell_type": "code",
   "execution_count": null,
   "metadata": {},
   "outputs": [],
   "source": []
  }
 ],
 "metadata": {
  "kernelspec": {
   "display_name": "Python 3",
   "language": "python",
   "name": "python3"
  },
  "language_info": {
   "codemirror_mode": {
    "name": "ipython",
    "version": 3
   },
   "file_extension": ".py",
   "mimetype": "text/x-python",
   "name": "python",
   "nbconvert_exporter": "python",
   "pygments_lexer": "ipython3",
   "version": "3.7.3"
  }
 },
 "nbformat": 4,
 "nbformat_minor": 2
}
