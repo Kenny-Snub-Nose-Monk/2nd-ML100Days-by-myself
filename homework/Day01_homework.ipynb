{
 "cells": [
  {
   "cell_type": "markdown",
   "metadata": {},
   "source": [
    "https://www.kaggle.com/c/house-prices-advanced-regression-techniques\n",
    "1. 你選的這組資料為何重要:\n",
    "     一個預測房價的題目，重要的原因在於房價 他的特徵眾多，要篩選出好的特徵很重要。\n",
    "2. 資料從何而來 :(tips: 譬如提供者是誰、以什麼方式蒐集)\n",
    "    The Ames Housing dataset was compiled by Dean De Cock for use in data science education. It's an incredible alternative for data scientists looking for a modernized and expanded version of the often cited Boston Housing dataset. \n",
    "3. 蒐集而來的資料型態為何:\n",
    "    數值型與類別型都有\n",
    "4. 這組資料想解決的問題如何評估:\n",
    "    Submissions are evaluated on Root-Mean-Squared-Error (RMSE) between the logarithm of the predicted value and the logarithm of the observed sales price. (Taking logs means that errors in predicting expensive houses and cheap houses will affect the result equally.)"
   ]
  },
  {
   "cell_type": "markdown",
   "metadata": {},
   "source": [
    "作業2：\n",
    "\n",
    "想像你經營一個自由載客車隊，你希望能透過數據分析以提升業績，請你思考並描述你如何規劃整體的分析/解決方案：\n",
    "\n",
    "1. 核心問題為何 (tips：如何定義 「提升業績 & 你的假設」)\n",
    "    提高載客業績\n",
    "2. 資料從何而來 (tips：哪些資料可能會對你想問的問題產生影響 & 資料如何蒐集)\n",
    "    天氣、時間(國定假日)、地段、乘客資料、付費價錢\n",
    "3. 蒐集而來的資料型態為何\n",
    "    數值型與類別型\n",
    "4. 你要回答的問題，其如何評估 (tips：你的假設如何驗證)\n",
    "    挑出最重要的幾個特徵，分析與載客量較高的幾個車主與該特徵的關係"
   ]
  },
  {
   "cell_type": "code",
   "execution_count": null,
   "metadata": {},
   "outputs": [],
   "source": [
    "#作業3：\n",
    "def mse(y, yp):\n",
    "\n",
    "    MSE = sum(pow(y - yp)) / len(y)\n",
    "    return mse\n",
    "\n",
    "MSE = mse(y, y_hat)\n",
    "print(\"The Mean absolute error is %.3f\" % (MSE))"
   ]
  }
 ],
 "metadata": {
  "kernelspec": {
   "display_name": "Python [default]",
   "language": "python",
   "name": "python3"
  },
  "language_info": {
   "codemirror_mode": {
    "name": "ipython",
    "version": 3
   },
   "file_extension": ".py",
   "mimetype": "text/x-python",
   "name": "python",
   "nbconvert_exporter": "python",
   "pygments_lexer": "ipython3",
   "version": "3.6.6"
  }
 },
 "nbformat": 4,
 "nbformat_minor": 2
}
