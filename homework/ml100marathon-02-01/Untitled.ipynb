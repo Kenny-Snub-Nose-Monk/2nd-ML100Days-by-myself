{
 "cells": [
  {
   "cell_type": "code",
   "execution_count": 1,
   "metadata": {},
   "outputs": [],
   "source": [
    "import numpy as np \n",
    "import pandas as pd\n",
    "from sklearn.model_selection import KFold, train_test_split, StratifiedKFold, cross_val_score, GridSearchCV\n",
    "from sklearn.pipeline import Pipeline\n",
    "from sklearn.linear_model import SGDClassifier\n",
    "from sklearn.preprocessing import StandardScaler, MinMaxScaler\n",
    "from sklearn.metrics import log_loss, roc_auc_score, auc, roc_curve\n",
    "\n",
    "description = pd.read_csv('./column_description.csv',index_col = 'Column' ,encoding='big5')\n",
    "train = pd.read_csv('./train_offline.csv',encoding='big5')\n",
    "test = pd.read_csv('./test_offline.csv',encoding='big5')"
   ]
  },
  {
   "cell_type": "code",
   "execution_count": 2,
   "metadata": {},
   "outputs": [
    {
     "data": {
      "text/html": [
       "<div>\n",
       "<style scoped>\n",
       "    .dataframe tbody tr th:only-of-type {\n",
       "        vertical-align: middle;\n",
       "    }\n",
       "\n",
       "    .dataframe tbody tr th {\n",
       "        vertical-align: top;\n",
       "    }\n",
       "\n",
       "    .dataframe thead th {\n",
       "        text-align: right;\n",
       "    }\n",
       "</style>\n",
       "<table border=\"1\" class=\"dataframe\">\n",
       "  <thead>\n",
       "    <tr style=\"text-align: right;\">\n",
       "      <th></th>\n",
       "      <th>Description</th>\n",
       "    </tr>\n",
       "    <tr>\n",
       "      <th>Column</th>\n",
       "      <th></th>\n",
       "    </tr>\n",
       "  </thead>\n",
       "  <tbody>\n",
       "    <tr>\n",
       "      <th>User_id</th>\n",
       "      <td>用戶 ID</td>\n",
       "    </tr>\n",
       "    <tr>\n",
       "      <th>Merchant_id</th>\n",
       "      <td>商家 ID</td>\n",
       "    </tr>\n",
       "    <tr>\n",
       "      <th>Coupon_id</th>\n",
       "      <td>優惠券 ID (null 代表無優惠券消費)</td>\n",
       "    </tr>\n",
       "    <tr>\n",
       "      <th>Discount_rate</th>\n",
       "      <td>優惠券折價：[0,1] 代表折扣率；x:y 代表滿 x 減 y 元</td>\n",
       "    </tr>\n",
       "    <tr>\n",
       "      <th>Distance</th>\n",
       "      <td>用戶經常活動地點離商家最近距離 (x * 500 公尺), 0 表示低於 500 公尺, 1...</td>\n",
       "    </tr>\n",
       "    <tr>\n",
       "      <th>Date_received</th>\n",
       "      <td>優惠券取得時間</td>\n",
       "    </tr>\n",
       "    <tr>\n",
       "      <th>Date</th>\n",
       "      <td>購買商品時間 (如果 Date is null &amp; Coupon_id is not nul...</td>\n",
       "    </tr>\n",
       "  </tbody>\n",
       "</table>\n",
       "</div>"
      ],
      "text/plain": [
       "                                                     Description\n",
       "Column                                                          \n",
       "User_id                                                    用戶 ID\n",
       "Merchant_id                                                商家 ID\n",
       "Coupon_id                                 優惠券 ID (null 代表無優惠券消費)\n",
       "Discount_rate                  優惠券折價：[0,1] 代表折扣率；x:y 代表滿 x 減 y 元\n",
       "Distance       用戶經常活動地點離商家最近距離 (x * 500 公尺), 0 表示低於 500 公尺, 1...\n",
       "Date_received                                            優惠券取得時間\n",
       "Date           購買商品時間 (如果 Date is null & Coupon_id is not nul..."
      ]
     },
     "execution_count": 2,
     "metadata": {},
     "output_type": "execute_result"
    }
   ],
   "source": [
    "description"
   ]
  },
  {
   "cell_type": "code",
   "execution_count": 3,
   "metadata": {},
   "outputs": [
    {
     "data": {
      "text/html": [
       "<div>\n",
       "<style scoped>\n",
       "    .dataframe tbody tr th:only-of-type {\n",
       "        vertical-align: middle;\n",
       "    }\n",
       "\n",
       "    .dataframe tbody tr th {\n",
       "        vertical-align: top;\n",
       "    }\n",
       "\n",
       "    .dataframe thead th {\n",
       "        text-align: right;\n",
       "    }\n",
       "</style>\n",
       "<table border=\"1\" class=\"dataframe\">\n",
       "  <thead>\n",
       "    <tr style=\"text-align: right;\">\n",
       "      <th></th>\n",
       "      <th>User_id</th>\n",
       "      <th>Merchant_id</th>\n",
       "      <th>Coupon_id</th>\n",
       "      <th>Discount_rate</th>\n",
       "      <th>Distance</th>\n",
       "      <th>Date_received</th>\n",
       "      <th>Date</th>\n",
       "    </tr>\n",
       "  </thead>\n",
       "  <tbody>\n",
       "    <tr>\n",
       "      <th>0</th>\n",
       "      <td>1439408</td>\n",
       "      <td>2632</td>\n",
       "      <td>NaN</td>\n",
       "      <td>NaN</td>\n",
       "      <td>0.0</td>\n",
       "      <td>NaN</td>\n",
       "      <td>20160217.0</td>\n",
       "    </tr>\n",
       "    <tr>\n",
       "      <th>1</th>\n",
       "      <td>1439408</td>\n",
       "      <td>2632</td>\n",
       "      <td>8591.0</td>\n",
       "      <td>20:1</td>\n",
       "      <td>0.0</td>\n",
       "      <td>20160217.0</td>\n",
       "      <td>NaN</td>\n",
       "    </tr>\n",
       "    <tr>\n",
       "      <th>2</th>\n",
       "      <td>1439408</td>\n",
       "      <td>2632</td>\n",
       "      <td>1078.0</td>\n",
       "      <td>20:1</td>\n",
       "      <td>0.0</td>\n",
       "      <td>20160319.0</td>\n",
       "      <td>NaN</td>\n",
       "    </tr>\n",
       "    <tr>\n",
       "      <th>3</th>\n",
       "      <td>1832624</td>\n",
       "      <td>3381</td>\n",
       "      <td>7610.0</td>\n",
       "      <td>200:20</td>\n",
       "      <td>0.0</td>\n",
       "      <td>20160429.0</td>\n",
       "      <td>NaN</td>\n",
       "    </tr>\n",
       "    <tr>\n",
       "      <th>4</th>\n",
       "      <td>2029232</td>\n",
       "      <td>3381</td>\n",
       "      <td>11951.0</td>\n",
       "      <td>200:20</td>\n",
       "      <td>1.0</td>\n",
       "      <td>20160129.0</td>\n",
       "      <td>NaN</td>\n",
       "    </tr>\n",
       "  </tbody>\n",
       "</table>\n",
       "</div>"
      ],
      "text/plain": [
       "   User_id  Merchant_id  Coupon_id Discount_rate  Distance  Date_received  \\\n",
       "0  1439408         2632        NaN           NaN       0.0            NaN   \n",
       "1  1439408         2632     8591.0          20:1       0.0     20160217.0   \n",
       "2  1439408         2632     1078.0          20:1       0.0     20160319.0   \n",
       "3  1832624         3381     7610.0        200:20       0.0     20160429.0   \n",
       "4  2029232         3381    11951.0        200:20       1.0     20160129.0   \n",
       "\n",
       "         Date  \n",
       "0  20160217.0  \n",
       "1         NaN  \n",
       "2         NaN  \n",
       "3         NaN  \n",
       "4         NaN  "
      ]
     },
     "execution_count": 3,
     "metadata": {},
     "output_type": "execute_result"
    }
   ],
   "source": [
    "train.head()"
   ]
  },
  {
   "cell_type": "code",
   "execution_count": 4,
   "metadata": {},
   "outputs": [
    {
     "name": "stdout",
     "output_type": "stream",
     "text": [
      "<class 'pandas.core.frame.DataFrame'>\n",
      "RangeIndex: 1160742 entries, 0 to 1160741\n",
      "Data columns (total 7 columns):\n",
      "User_id          1160742 non-null int64\n",
      "Merchant_id      1160742 non-null int64\n",
      "Coupon_id        746969 non-null float64\n",
      "Discount_rate    746969 non-null object\n",
      "Distance         1090916 non-null float64\n",
      "Date_received    746969 non-null float64\n",
      "Date             456709 non-null float64\n",
      "dtypes: float64(4), int64(2), object(1)\n",
      "memory usage: 62.0+ MB\n"
     ]
    }
   ],
   "source": [
    "train.info()"
   ]
  },
  {
   "cell_type": "markdown",
   "metadata": {},
   "source": [
    "不去care那些沒優惠券的數據"
   ]
  },
  {
   "cell_type": "code",
   "execution_count": 5,
   "metadata": {},
   "outputs": [],
   "source": [
    "train = train[~train.Coupon_id.isna()]"
   ]
  },
  {
   "cell_type": "code",
   "execution_count": 6,
   "metadata": {},
   "outputs": [
    {
     "data": {
      "text/plain": [
       "(746969, 7)"
      ]
     },
     "execution_count": 6,
     "metadata": {},
     "output_type": "execute_result"
    }
   ],
   "source": [
    "train.shape"
   ]
  },
  {
   "cell_type": "code",
   "execution_count": 7,
   "metadata": {},
   "outputs": [],
   "source": [
    "test = test[~test.Coupon_id.isna()]"
   ]
  },
  {
   "cell_type": "code",
   "execution_count": 8,
   "metadata": {},
   "outputs": [
    {
     "data": {
      "text/plain": [
       "(306313, 6)"
      ]
     },
     "execution_count": 8,
     "metadata": {},
     "output_type": "execute_result"
    }
   ],
   "source": [
    "test.shape"
   ]
  },
  {
   "cell_type": "markdown",
   "metadata": {},
   "source": [
    "> 總共給的train 數據，整體只有5%的人用消費券，模型選用時使用分層抽樣，避免imbalance"
   ]
  },
  {
   "cell_type": "markdown",
   "metadata": {},
   "source": [
    "> 由上面的資料可以得知，總共的資料為1160742筆，但我們感興趣的資料是消費券是否被使用，所以可用資料應為Coupon_id的資料74696筆，共將沒有消費券的給0與有卻沒有使用的都表示為0，把有消費券且用的表示為1。"
   ]
  },
  {
   "cell_type": "code",
   "execution_count": 9,
   "metadata": {},
   "outputs": [
    {
     "name": "stdout",
     "output_type": "stream",
     "text": [
      "<class 'pandas.core.frame.DataFrame'>\n",
      "Int64Index: 306313 entries, 0 to 594141\n",
      "Data columns (total 6 columns):\n",
      "User_id          306313 non-null int64\n",
      "Merchant_id      306313 non-null int64\n",
      "Coupon_id        306313 non-null float64\n",
      "Discount_rate    306313 non-null object\n",
      "Distance         270136 non-null float64\n",
      "Date_received    306313 non-null float64\n",
      "dtypes: float64(3), int64(2), object(1)\n",
      "memory usage: 16.4+ MB\n"
     ]
    }
   ],
   "source": [
    "test.info()"
   ]
  },
  {
   "cell_type": "code",
   "execution_count": 10,
   "metadata": {},
   "outputs": [
    {
     "data": {
      "text/html": [
       "<div>\n",
       "<style scoped>\n",
       "    .dataframe tbody tr th:only-of-type {\n",
       "        vertical-align: middle;\n",
       "    }\n",
       "\n",
       "    .dataframe tbody tr th {\n",
       "        vertical-align: top;\n",
       "    }\n",
       "\n",
       "    .dataframe thead th {\n",
       "        text-align: right;\n",
       "    }\n",
       "</style>\n",
       "<table border=\"1\" class=\"dataframe\">\n",
       "  <thead>\n",
       "    <tr style=\"text-align: right;\">\n",
       "      <th></th>\n",
       "      <th>User_id</th>\n",
       "      <th>Merchant_id</th>\n",
       "      <th>Coupon_id</th>\n",
       "      <th>Discount_rate</th>\n",
       "      <th>Distance</th>\n",
       "      <th>Date_received</th>\n",
       "    </tr>\n",
       "  </thead>\n",
       "  <tbody>\n",
       "    <tr>\n",
       "      <th>0</th>\n",
       "      <td>1439408</td>\n",
       "      <td>4663</td>\n",
       "      <td>11002.0</td>\n",
       "      <td>150:20</td>\n",
       "      <td>1.0</td>\n",
       "      <td>20160528.0</td>\n",
       "    </tr>\n",
       "    <tr>\n",
       "      <th>1</th>\n",
       "      <td>1439408</td>\n",
       "      <td>2632</td>\n",
       "      <td>8591.0</td>\n",
       "      <td>20:1</td>\n",
       "      <td>0.0</td>\n",
       "      <td>20160613.0</td>\n",
       "    </tr>\n",
       "    <tr>\n",
       "      <th>3</th>\n",
       "      <td>1439408</td>\n",
       "      <td>2632</td>\n",
       "      <td>8591.0</td>\n",
       "      <td>20:1</td>\n",
       "      <td>0.0</td>\n",
       "      <td>20160516.0</td>\n",
       "    </tr>\n",
       "    <tr>\n",
       "      <th>4</th>\n",
       "      <td>2029232</td>\n",
       "      <td>450</td>\n",
       "      <td>1532.0</td>\n",
       "      <td>30:5</td>\n",
       "      <td>0.0</td>\n",
       "      <td>20160530.0</td>\n",
       "    </tr>\n",
       "    <tr>\n",
       "      <th>5</th>\n",
       "      <td>2029232</td>\n",
       "      <td>6459</td>\n",
       "      <td>12737.0</td>\n",
       "      <td>20:1</td>\n",
       "      <td>0.0</td>\n",
       "      <td>20160519.0</td>\n",
       "    </tr>\n",
       "  </tbody>\n",
       "</table>\n",
       "</div>"
      ],
      "text/plain": [
       "   User_id  Merchant_id  Coupon_id Discount_rate  Distance  Date_received\n",
       "0  1439408         4663    11002.0        150:20       1.0     20160528.0\n",
       "1  1439408         2632     8591.0          20:1       0.0     20160613.0\n",
       "3  1439408         2632     8591.0          20:1       0.0     20160516.0\n",
       "4  2029232          450     1532.0          30:5       0.0     20160530.0\n",
       "5  2029232         6459    12737.0          20:1       0.0     20160519.0"
      ]
     },
     "execution_count": 10,
     "metadata": {},
     "output_type": "execute_result"
    }
   ],
   "source": [
    "test.head()"
   ]
  },
  {
   "cell_type": "code",
   "execution_count": 11,
   "metadata": {},
   "outputs": [
    {
     "data": {
      "text/plain": [
       "0    710665\n",
       "1     36304\n",
       "Name: label, dtype: int64"
      ]
     },
     "execution_count": 11,
     "metadata": {},
     "output_type": "execute_result"
    }
   ],
   "source": [
    "#Creat target label\n",
    "\"\"\"\n",
    "According to the definition,\n",
    "(1)buy with coupon within(include) 15 days ==> 1\n",
    "(2)buy with coupon but out of 15 days ==> 0\n",
    "(3)buy without coupon ==> -1 (we don't care)\n",
    "\"\"\"\n",
    "def label(row):\n",
    "    if np.isnan(row['Date_received']):\n",
    "        return -1\n",
    "    if not np.isnan(row['Date']):\n",
    "        td = pd.to_datetime(row['Date'], format='%Y%m%d') -  pd.to_datetime(row['Date_received'], format='%Y%m%d')\n",
    "        if td <= pd.Timedelta(15, 'D'):\n",
    "            return 1\n",
    "    return 0\n",
    "    \n",
    "train['label'] = train.apply(label, axis = 1)\n",
    "train['label'].value_counts()"
   ]
  },
  {
   "cell_type": "markdown",
   "metadata": {},
   "source": [
    "確認一下training 中Coupon_id、Merchant_id 裡面的值 跟 test中有無重複"
   ]
  },
  {
   "cell_type": "code",
   "execution_count": 12,
   "metadata": {},
   "outputs": [],
   "source": [
    "train_Coupon = set(list(train['Coupon_id'].unique()))\n",
    "test_Coupon = set(list(test['Coupon_id'].unique()))"
   ]
  },
  {
   "cell_type": "code",
   "execution_count": 13,
   "metadata": {},
   "outputs": [
    {
     "data": {
      "text/plain": [
       "1905"
      ]
     },
     "execution_count": 13,
     "metadata": {},
     "output_type": "execute_result"
    }
   ],
   "source": [
    "len(train_Coupon.intersection(test_Coupon)) # 1905個重複項"
   ]
  },
  {
   "cell_type": "code",
   "execution_count": 14,
   "metadata": {},
   "outputs": [],
   "source": [
    "train_Merchant_id = set(list(train['Merchant_id'].unique()))\n",
    "test_Merchant_id = set(list(test['Merchant_id'].unique()))"
   ]
  },
  {
   "cell_type": "code",
   "execution_count": 15,
   "metadata": {},
   "outputs": [
    {
     "data": {
      "text/plain": [
       "2160"
      ]
     },
     "execution_count": 15,
     "metadata": {},
     "output_type": "execute_result"
    }
   ],
   "source": [
    "len(train_Merchant_id.intersection(test_Merchant_id)) # 2160個重複項"
   ]
  },
  {
   "cell_type": "markdown",
   "metadata": {},
   "source": [
    "看看重複的店家 佔資料裡面的多少"
   ]
  },
  {
   "cell_type": "code",
   "execution_count": 16,
   "metadata": {},
   "outputs": [
    {
     "data": {
      "text/plain": [
       "546562"
      ]
     },
     "execution_count": 16,
     "metadata": {},
     "output_type": "execute_result"
    }
   ],
   "source": [
    "sum(train['Merchant_id'].apply(lambda x : 1 if x in list(train_Merchant_id.intersection(test_Merchant_id)) else 0))"
   ]
  },
  {
   "cell_type": "code",
   "execution_count": 17,
   "metadata": {},
   "outputs": [
    {
     "data": {
      "text/plain": [
       "(746969, 8)"
      ]
     },
     "execution_count": 17,
     "metadata": {},
     "output_type": "execute_result"
    }
   ],
   "source": [
    "train.shape #只有將近20萬筆沒有重複"
   ]
  },
  {
   "cell_type": "markdown",
   "metadata": {},
   "source": [
    "將重複的 保留 不重複地給予None 當作特徵，這邊在合併後 一起做"
   ]
  },
  {
   "cell_type": "code",
   "execution_count": 18,
   "metadata": {
    "scrolled": true
   },
   "outputs": [
    {
     "name": "stderr",
     "output_type": "stream",
     "text": [
      "C:\\ProgramData\\Anaconda3\\lib\\site-packages\\ipykernel_launcher.py:2: FutureWarning: Sorting because non-concatenation axis is not aligned. A future version\n",
      "of pandas will change to not sort by default.\n",
      "\n",
      "To accept the future behavior, pass 'sort=False'.\n",
      "\n",
      "To retain the current behavior and silence the warning, pass 'sort=True'.\n",
      "\n",
      "  \n"
     ]
    }
   ],
   "source": [
    "train.drop(['Date'],inplace= True,axis = 1) #將training 多的欄位去掉\n",
    "all_data = pd.concat([train, test], ignore_index=True)#將training 跟Test 的資料共同處理"
   ]
  },
  {
   "cell_type": "code",
   "execution_count": 19,
   "metadata": {
    "scrolled": true
   },
   "outputs": [
    {
     "data": {
      "text/html": [
       "<div>\n",
       "<style scoped>\n",
       "    .dataframe tbody tr th:only-of-type {\n",
       "        vertical-align: middle;\n",
       "    }\n",
       "\n",
       "    .dataframe tbody tr th {\n",
       "        vertical-align: top;\n",
       "    }\n",
       "\n",
       "    .dataframe thead th {\n",
       "        text-align: right;\n",
       "    }\n",
       "</style>\n",
       "<table border=\"1\" class=\"dataframe\">\n",
       "  <thead>\n",
       "    <tr style=\"text-align: right;\">\n",
       "      <th></th>\n",
       "      <th>Coupon_id</th>\n",
       "      <th>Date_received</th>\n",
       "      <th>Discount_rate</th>\n",
       "      <th>Distance</th>\n",
       "      <th>Merchant_id</th>\n",
       "      <th>User_id</th>\n",
       "      <th>label</th>\n",
       "    </tr>\n",
       "  </thead>\n",
       "  <tbody>\n",
       "    <tr>\n",
       "      <th>0</th>\n",
       "      <td>8591.0</td>\n",
       "      <td>20160217.0</td>\n",
       "      <td>20:1</td>\n",
       "      <td>0.0</td>\n",
       "      <td>2632</td>\n",
       "      <td>1439408</td>\n",
       "      <td>0.0</td>\n",
       "    </tr>\n",
       "    <tr>\n",
       "      <th>1</th>\n",
       "      <td>1078.0</td>\n",
       "      <td>20160319.0</td>\n",
       "      <td>20:1</td>\n",
       "      <td>0.0</td>\n",
       "      <td>2632</td>\n",
       "      <td>1439408</td>\n",
       "      <td>0.0</td>\n",
       "    </tr>\n",
       "    <tr>\n",
       "      <th>2</th>\n",
       "      <td>7610.0</td>\n",
       "      <td>20160429.0</td>\n",
       "      <td>200:20</td>\n",
       "      <td>0.0</td>\n",
       "      <td>3381</td>\n",
       "      <td>1832624</td>\n",
       "      <td>0.0</td>\n",
       "    </tr>\n",
       "    <tr>\n",
       "      <th>3</th>\n",
       "      <td>11951.0</td>\n",
       "      <td>20160129.0</td>\n",
       "      <td>200:20</td>\n",
       "      <td>1.0</td>\n",
       "      <td>3381</td>\n",
       "      <td>2029232</td>\n",
       "      <td>0.0</td>\n",
       "    </tr>\n",
       "    <tr>\n",
       "      <th>4</th>\n",
       "      <td>9776.0</td>\n",
       "      <td>20160129.0</td>\n",
       "      <td>10:5</td>\n",
       "      <td>2.0</td>\n",
       "      <td>3381</td>\n",
       "      <td>2223968</td>\n",
       "      <td>0.0</td>\n",
       "    </tr>\n",
       "  </tbody>\n",
       "</table>\n",
       "</div>"
      ],
      "text/plain": [
       "   Coupon_id  Date_received Discount_rate  Distance  Merchant_id  User_id  \\\n",
       "0     8591.0     20160217.0          20:1       0.0         2632  1439408   \n",
       "1     1078.0     20160319.0          20:1       0.0         2632  1439408   \n",
       "2     7610.0     20160429.0        200:20       0.0         3381  1832624   \n",
       "3    11951.0     20160129.0        200:20       1.0         3381  2029232   \n",
       "4     9776.0     20160129.0          10:5       2.0         3381  2223968   \n",
       "\n",
       "   label  \n",
       "0    0.0  \n",
       "1    0.0  \n",
       "2    0.0  \n",
       "3    0.0  \n",
       "4    0.0  "
      ]
     },
     "execution_count": 19,
     "metadata": {},
     "output_type": "execute_result"
    }
   ],
   "source": [
    "all_data.head()"
   ]
  },
  {
   "cell_type": "markdown",
   "metadata": {},
   "source": [
    "> 消費次數最多的前10名店家"
   ]
  },
  {
   "cell_type": "code",
   "execution_count": 20,
   "metadata": {
    "scrolled": true
   },
   "outputs": [
    {
     "data": {
      "text/plain": [
       "3381    122834\n",
       "450      63042\n",
       "760      44976\n",
       "5341     36162\n",
       "2709     35330\n",
       "1569     33600\n",
       "7555     27713\n",
       "4660     24867\n",
       "6454     21575\n",
       "3621     20779\n",
       "Name: Merchant_id, dtype: int64"
      ]
     },
     "execution_count": 20,
     "metadata": {},
     "output_type": "execute_result"
    }
   ],
   "source": [
    "all_data['Merchant_id'].value_counts().head(10)"
   ]
  },
  {
   "cell_type": "code",
   "execution_count": 21,
   "metadata": {
    "scrolled": true
   },
   "outputs": [
    {
     "data": {
      "text/plain": [
       "7610.0     46729\n",
       "2418.0     29284\n",
       "11951.0    26035\n",
       "8555.0     26009\n",
       "1480.0     24815\n",
       "1807.0     24500\n",
       "111.0      21760\n",
       "2840.0     21693\n",
       "5054.0     21402\n",
       "14031.0    21059\n",
       "Name: Coupon_id, dtype: int64"
      ]
     },
     "execution_count": 21,
     "metadata": {},
     "output_type": "execute_result"
    }
   ],
   "source": [
    "all_data['Coupon_id'].value_counts().head(10)"
   ]
  },
  {
   "cell_type": "markdown",
   "metadata": {},
   "source": [
    "### 資料前處理"
   ]
  },
  {
   "cell_type": "markdown",
   "metadata": {},
   "source": [
    "將 店家id(Merchant_id)與優惠券id(Coupon_id)的特性保留下來，因為用不用優惠券可能跟店家會是優惠券本生有關"
   ]
  },
  {
   "cell_type": "code",
   "execution_count": 22,
   "metadata": {},
   "outputs": [
    {
     "data": {
      "text/plain": [
       "5599"
      ]
     },
     "execution_count": 22,
     "metadata": {},
     "output_type": "execute_result"
    }
   ],
   "source": [
    "len(all_data['Merchant_id'].unique())"
   ]
  },
  {
   "cell_type": "code",
   "execution_count": 23,
   "metadata": {},
   "outputs": [
    {
     "data": {
      "text/plain": [
       "9738"
      ]
     },
     "execution_count": 23,
     "metadata": {},
     "output_type": "execute_result"
    }
   ],
   "source": [
    "len(all_data['Coupon_id'].unique())"
   ]
  },
  {
   "cell_type": "markdown",
   "metadata": {},
   "source": [
    "直接one-hoteconding維度太大了，將在訓練跟測試集都有的部分保留，其餘填上None值"
   ]
  },
  {
   "cell_type": "code",
   "execution_count": 24,
   "metadata": {},
   "outputs": [],
   "source": [
    "all_data['Merchant_id_repeat'] = all_data['Merchant_id'].apply(lambda x : str(x) if x in list(train_Merchant_id.intersection(test_Merchant_id)) else 'None')"
   ]
  },
  {
   "cell_type": "code",
   "execution_count": 25,
   "metadata": {},
   "outputs": [],
   "source": [
    "all_data['Coupon_id_repeat'] = all_data['Coupon_id'].apply(lambda x : str(x) if x in list(train_Coupon.intersection(test_Coupon)) else 'None')"
   ]
  },
  {
   "cell_type": "code",
   "execution_count": 26,
   "metadata": {},
   "outputs": [],
   "source": [
    "from sklearn.preprocessing import LabelEncoder\n",
    "all_data['Merchant_id_repeat'] = LabelEncoder().fit_transform(all_data['Merchant_id_repeat'])\n",
    "all_data['Coupon_id_repeat'] = LabelEncoder().fit_transform(all_data['Coupon_id_repeat'])"
   ]
  },
  {
   "cell_type": "markdown",
   "metadata": {},
   "source": [
    "Discount_rate 處理，將它實際的rate 跟 前後滿多少 折多少， 都當作一個特徵"
   ]
  },
  {
   "cell_type": "code",
   "execution_count": 27,
   "metadata": {
    "scrolled": true
   },
   "outputs": [],
   "source": [
    "all_data['Discount_rate'] = all_data['Discount_rate'].fillna('0:0')\n",
    "all_data['Discount_rate'] = all_data['Discount_rate'].apply(str)"
   ]
  },
  {
   "cell_type": "code",
   "execution_count": 28,
   "metadata": {},
   "outputs": [],
   "source": [
    "all_data['Discount_rate'] = all_data['Discount_rate'].apply(lambda x:x.split(':'))"
   ]
  },
  {
   "cell_type": "code",
   "execution_count": 29,
   "metadata": {},
   "outputs": [],
   "source": [
    "rate = pd.DataFrame(all_data['Discount_rate'].loc[all_data['Discount_rate'].apply(lambda x : len(x)) !=2])\n",
    "raw_rate = pd.DataFrame(all_data['Discount_rate'].loc[all_data['Discount_rate'].apply(lambda x : len(x)) != 1])"
   ]
  },
  {
   "cell_type": "code",
   "execution_count": 30,
   "metadata": {},
   "outputs": [],
   "source": [
    "raw_rate['Need_buy_price'] = raw_rate['Discount_rate'].apply(lambda x :x[0])\n",
    "raw_rate['Discount_price'] = raw_rate['Discount_rate'].apply(lambda x :x[1])\n",
    "raw_rate['Discount_rate'] = 1 - (raw_rate['Discount_price'].apply(int) / raw_rate['Need_buy_price'].apply(int))"
   ]
  },
  {
   "cell_type": "code",
   "execution_count": 31,
   "metadata": {},
   "outputs": [],
   "source": [
    "raw_rate.fillna(0, inplace=True)"
   ]
  },
  {
   "cell_type": "code",
   "execution_count": 32,
   "metadata": {
    "scrolled": true
   },
   "outputs": [],
   "source": [
    "rate = pd.DataFrame(rate['Discount_rate'].apply(lambda x : float(x[0])))"
   ]
  },
  {
   "cell_type": "code",
   "execution_count": 33,
   "metadata": {},
   "outputs": [],
   "source": [
    "raw_rate['index'] = raw_rate.index\n",
    "rate['index'] = rate.index"
   ]
  },
  {
   "cell_type": "code",
   "execution_count": 34,
   "metadata": {},
   "outputs": [
    {
     "name": "stderr",
     "output_type": "stream",
     "text": [
      "C:\\ProgramData\\Anaconda3\\lib\\site-packages\\pandas\\core\\frame.py:6211: FutureWarning: Sorting because non-concatenation axis is not aligned. A future version\n",
      "of pandas will change to not sort by default.\n",
      "\n",
      "To accept the future behavior, pass 'sort=False'.\n",
      "\n",
      "To retain the current behavior and silence the warning, pass 'sort=True'.\n",
      "\n",
      "  sort=sort)\n"
     ]
    }
   ],
   "source": [
    "raw_rate = raw_rate.append(rate,ignore_index=True).sort_values(by = ['index'])\n",
    "\n",
    "# res = pd.merge(left,right, left_index=True, right_index=True, how='outer')"
   ]
  },
  {
   "cell_type": "code",
   "execution_count": 35,
   "metadata": {},
   "outputs": [],
   "source": [
    "raw_rate.index = raw_rate['index']"
   ]
  },
  {
   "cell_type": "code",
   "execution_count": 36,
   "metadata": {},
   "outputs": [],
   "source": [
    "raw_rate.drop('index',axis = 1, inplace=True)"
   ]
  },
  {
   "cell_type": "code",
   "execution_count": 37,
   "metadata": {},
   "outputs": [],
   "source": [
    "all_data = pd.merge(all_data ,raw_rate, left_index=True, right_index=True, how='outer')\n",
    "all_data.drop(['Discount_rate_x'],axis = 1,inplace = True)"
   ]
  },
  {
   "cell_type": "code",
   "execution_count": 38,
   "metadata": {},
   "outputs": [
    {
     "data": {
      "text/html": [
       "<div>\n",
       "<style scoped>\n",
       "    .dataframe tbody tr th:only-of-type {\n",
       "        vertical-align: middle;\n",
       "    }\n",
       "\n",
       "    .dataframe tbody tr th {\n",
       "        vertical-align: top;\n",
       "    }\n",
       "\n",
       "    .dataframe thead th {\n",
       "        text-align: right;\n",
       "    }\n",
       "</style>\n",
       "<table border=\"1\" class=\"dataframe\">\n",
       "  <thead>\n",
       "    <tr style=\"text-align: right;\">\n",
       "      <th></th>\n",
       "      <th>Coupon_id</th>\n",
       "      <th>Date_received</th>\n",
       "      <th>Distance</th>\n",
       "      <th>Merchant_id</th>\n",
       "      <th>User_id</th>\n",
       "      <th>label</th>\n",
       "      <th>Merchant_id_repeat</th>\n",
       "      <th>Coupon_id_repeat</th>\n",
       "      <th>Discount_price</th>\n",
       "      <th>Discount_rate_y</th>\n",
       "      <th>Need_buy_price</th>\n",
       "    </tr>\n",
       "  </thead>\n",
       "  <tbody>\n",
       "    <tr>\n",
       "      <th>0</th>\n",
       "      <td>8591.0</td>\n",
       "      <td>20160217.0</td>\n",
       "      <td>0.0</td>\n",
       "      <td>2632</td>\n",
       "      <td>1439408</td>\n",
       "      <td>0.0</td>\n",
       "      <td>439</td>\n",
       "      <td>1687</td>\n",
       "      <td>1</td>\n",
       "      <td>0.95</td>\n",
       "      <td>20</td>\n",
       "    </tr>\n",
       "    <tr>\n",
       "      <th>1</th>\n",
       "      <td>1078.0</td>\n",
       "      <td>20160319.0</td>\n",
       "      <td>0.0</td>\n",
       "      <td>2632</td>\n",
       "      <td>1439408</td>\n",
       "      <td>0.0</td>\n",
       "      <td>439</td>\n",
       "      <td>116</td>\n",
       "      <td>1</td>\n",
       "      <td>0.95</td>\n",
       "      <td>20</td>\n",
       "    </tr>\n",
       "    <tr>\n",
       "      <th>2</th>\n",
       "      <td>7610.0</td>\n",
       "      <td>20160429.0</td>\n",
       "      <td>0.0</td>\n",
       "      <td>3381</td>\n",
       "      <td>1832624</td>\n",
       "      <td>0.0</td>\n",
       "      <td>647</td>\n",
       "      <td>1535</td>\n",
       "      <td>20</td>\n",
       "      <td>0.90</td>\n",
       "      <td>200</td>\n",
       "    </tr>\n",
       "    <tr>\n",
       "      <th>3</th>\n",
       "      <td>11951.0</td>\n",
       "      <td>20160129.0</td>\n",
       "      <td>1.0</td>\n",
       "      <td>3381</td>\n",
       "      <td>2029232</td>\n",
       "      <td>0.0</td>\n",
       "      <td>647</td>\n",
       "      <td>1905</td>\n",
       "      <td>20</td>\n",
       "      <td>0.90</td>\n",
       "      <td>200</td>\n",
       "    </tr>\n",
       "    <tr>\n",
       "      <th>4</th>\n",
       "      <td>9776.0</td>\n",
       "      <td>20160129.0</td>\n",
       "      <td>2.0</td>\n",
       "      <td>3381</td>\n",
       "      <td>2223968</td>\n",
       "      <td>0.0</td>\n",
       "      <td>647</td>\n",
       "      <td>1905</td>\n",
       "      <td>5</td>\n",
       "      <td>0.50</td>\n",
       "      <td>10</td>\n",
       "    </tr>\n",
       "  </tbody>\n",
       "</table>\n",
       "</div>"
      ],
      "text/plain": [
       "   Coupon_id  Date_received  Distance  Merchant_id  User_id  label  \\\n",
       "0     8591.0     20160217.0       0.0         2632  1439408    0.0   \n",
       "1     1078.0     20160319.0       0.0         2632  1439408    0.0   \n",
       "2     7610.0     20160429.0       0.0         3381  1832624    0.0   \n",
       "3    11951.0     20160129.0       1.0         3381  2029232    0.0   \n",
       "4     9776.0     20160129.0       2.0         3381  2223968    0.0   \n",
       "\n",
       "   Merchant_id_repeat  Coupon_id_repeat Discount_price  Discount_rate_y  \\\n",
       "0                 439              1687              1             0.95   \n",
       "1                 439               116              1             0.95   \n",
       "2                 647              1535             20             0.90   \n",
       "3                 647              1905             20             0.90   \n",
       "4                 647              1905              5             0.50   \n",
       "\n",
       "  Need_buy_price  \n",
       "0             20  \n",
       "1             20  \n",
       "2            200  \n",
       "3            200  \n",
       "4             10  "
      ]
     },
     "execution_count": 38,
     "metadata": {},
     "output_type": "execute_result"
    }
   ],
   "source": [
    "all_data.head()"
   ]
  },
  {
   "cell_type": "code",
   "execution_count": 39,
   "metadata": {},
   "outputs": [
    {
     "data": {
      "text/html": [
       "<div>\n",
       "<style scoped>\n",
       "    .dataframe tbody tr th:only-of-type {\n",
       "        vertical-align: middle;\n",
       "    }\n",
       "\n",
       "    .dataframe tbody tr th {\n",
       "        vertical-align: top;\n",
       "    }\n",
       "\n",
       "    .dataframe thead th {\n",
       "        text-align: right;\n",
       "    }\n",
       "</style>\n",
       "<table border=\"1\" class=\"dataframe\">\n",
       "  <thead>\n",
       "    <tr style=\"text-align: right;\">\n",
       "      <th></th>\n",
       "      <th>Coupon_id</th>\n",
       "      <th>Date_received</th>\n",
       "      <th>Distance</th>\n",
       "      <th>Merchant_id</th>\n",
       "      <th>User_id</th>\n",
       "      <th>label</th>\n",
       "      <th>Merchant_id_repeat</th>\n",
       "      <th>Coupon_id_repeat</th>\n",
       "      <th>Discount_rate_y</th>\n",
       "    </tr>\n",
       "  </thead>\n",
       "  <tbody>\n",
       "    <tr>\n",
       "      <th>count</th>\n",
       "      <td>1053282.0000</td>\n",
       "      <td>1053282.0000</td>\n",
       "      <td>947279.0000</td>\n",
       "      <td>1053282.0000</td>\n",
       "      <td>1053282.0000</td>\n",
       "      <td>746969.0000</td>\n",
       "      <td>1053282.0000</td>\n",
       "      <td>1053282.0000</td>\n",
       "      <td>1053282.0000</td>\n",
       "    </tr>\n",
       "    <tr>\n",
       "      <th>mean</th>\n",
       "      <td>6815.3982</td>\n",
       "      <td>20160315.9383</td>\n",
       "      <td>3.2288</td>\n",
       "      <td>3953.3774</td>\n",
       "      <td>3687241.5191</td>\n",
       "      <td>0.0486</td>\n",
       "      <td>1253.0706</td>\n",
       "      <td>1770.4130</td>\n",
       "      <td>0.8443</td>\n",
       "    </tr>\n",
       "    <tr>\n",
       "      <th>std</th>\n",
       "      <td>4174.2760</td>\n",
       "      <td>177.1416</td>\n",
       "      <td>3.8195</td>\n",
       "      <td>2422.8522</td>\n",
       "      <td>2124955.8622</td>\n",
       "      <td>0.2150</td>\n",
       "      <td>723.3704</td>\n",
       "      <td>352.1169</td>\n",
       "      <td>0.0904</td>\n",
       "    </tr>\n",
       "    <tr>\n",
       "      <th>min</th>\n",
       "      <td>1.0000</td>\n",
       "      <td>20160101.0000</td>\n",
       "      <td>0.0000</td>\n",
       "      <td>2.0000</td>\n",
       "      <td>4.0000</td>\n",
       "      <td>0.0000</td>\n",
       "      <td>0.0000</td>\n",
       "      <td>0.0000</td>\n",
       "      <td>0.2000</td>\n",
       "    </tr>\n",
       "    <tr>\n",
       "      <th>25%</th>\n",
       "      <td>2840.0000</td>\n",
       "      <td>20160129.0000</td>\n",
       "      <td>0.0000</td>\n",
       "      <td>1715.0000</td>\n",
       "      <td>1842402.0000</td>\n",
       "      <td>0.0000</td>\n",
       "      <td>647.0000</td>\n",
       "      <td>1905.0000</td>\n",
       "      <td>0.8333</td>\n",
       "    </tr>\n",
       "    <tr>\n",
       "      <th>50%</th>\n",
       "      <td>7430.0000</td>\n",
       "      <td>20160321.0000</td>\n",
       "      <td>1.0000</td>\n",
       "      <td>3381.0000</td>\n",
       "      <td>3692321.5000</td>\n",
       "      <td>0.0000</td>\n",
       "      <td>1113.0000</td>\n",
       "      <td>1905.0000</td>\n",
       "      <td>0.8500</td>\n",
       "    </tr>\n",
       "    <tr>\n",
       "      <th>75%</th>\n",
       "      <td>10323.0000</td>\n",
       "      <td>20160514.0000</td>\n",
       "      <td>6.0000</td>\n",
       "      <td>6284.0000</td>\n",
       "      <td>5529516.0000</td>\n",
       "      <td>0.0000</td>\n",
       "      <td>2014.0000</td>\n",
       "      <td>1905.0000</td>\n",
       "      <td>0.9000</td>\n",
       "    </tr>\n",
       "    <tr>\n",
       "      <th>max</th>\n",
       "      <td>14045.0000</td>\n",
       "      <td>20160615.0000</td>\n",
       "      <td>10.0000</td>\n",
       "      <td>8856.0000</td>\n",
       "      <td>7361032.0000</td>\n",
       "      <td>1.0000</td>\n",
       "      <td>2160.0000</td>\n",
       "      <td>1905.0000</td>\n",
       "      <td>0.9900</td>\n",
       "    </tr>\n",
       "  </tbody>\n",
       "</table>\n",
       "</div>"
      ],
      "text/plain": [
       "         Coupon_id  Date_received    Distance  Merchant_id      User_id  \\\n",
       "count 1053282.0000   1053282.0000 947279.0000 1053282.0000 1053282.0000   \n",
       "mean     6815.3982  20160315.9383      3.2288    3953.3774 3687241.5191   \n",
       "std      4174.2760       177.1416      3.8195    2422.8522 2124955.8622   \n",
       "min         1.0000  20160101.0000      0.0000       2.0000       4.0000   \n",
       "25%      2840.0000  20160129.0000      0.0000    1715.0000 1842402.0000   \n",
       "50%      7430.0000  20160321.0000      1.0000    3381.0000 3692321.5000   \n",
       "75%     10323.0000  20160514.0000      6.0000    6284.0000 5529516.0000   \n",
       "max     14045.0000  20160615.0000     10.0000    8856.0000 7361032.0000   \n",
       "\n",
       "            label  Merchant_id_repeat  Coupon_id_repeat  Discount_rate_y  \n",
       "count 746969.0000        1053282.0000      1053282.0000     1053282.0000  \n",
       "mean       0.0486           1253.0706         1770.4130           0.8443  \n",
       "std        0.2150            723.3704          352.1169           0.0904  \n",
       "min        0.0000              0.0000            0.0000           0.2000  \n",
       "25%        0.0000            647.0000         1905.0000           0.8333  \n",
       "50%        0.0000           1113.0000         1905.0000           0.8500  \n",
       "75%        0.0000           2014.0000         1905.0000           0.9000  \n",
       "max        1.0000           2160.0000         1905.0000           0.9900  "
      ]
     },
     "execution_count": 39,
     "metadata": {},
     "output_type": "execute_result"
    }
   ],
   "source": [
    "pd.options.display.float_format = '{:.4f}'.format\n",
    "all_data.describe()"
   ]
  },
  {
   "cell_type": "code",
   "execution_count": 40,
   "metadata": {},
   "outputs": [
    {
     "name": "stdout",
     "output_type": "stream",
     "text": [
      "<class 'pandas.core.frame.DataFrame'>\n",
      "Int64Index: 143 entries, 23520 to 1022627\n",
      "Data columns (total 11 columns):\n",
      "Coupon_id             143 non-null float64\n",
      "Date_received         143 non-null float64\n",
      "Distance              29 non-null float64\n",
      "Merchant_id           143 non-null int64\n",
      "User_id               143 non-null int64\n",
      "label                 127 non-null float64\n",
      "Merchant_id_repeat    143 non-null int32\n",
      "Coupon_id_repeat      143 non-null int32\n",
      "Discount_price        33 non-null object\n",
      "Discount_rate_y       143 non-null float64\n",
      "Need_buy_price        33 non-null object\n",
      "dtypes: float64(5), int32(2), int64(2), object(2)\n",
      "memory usage: 12.3+ KB\n"
     ]
    }
   ],
   "source": [
    "all_data.loc[all_data['Discount_rate_y'] < 0.5].info()"
   ]
  },
  {
   "cell_type": "code",
   "execution_count": 41,
   "metadata": {
    "scrolled": true
   },
   "outputs": [
    {
     "data": {
      "text/html": [
       "<div>\n",
       "<style scoped>\n",
       "    .dataframe tbody tr th:only-of-type {\n",
       "        vertical-align: middle;\n",
       "    }\n",
       "\n",
       "    .dataframe tbody tr th {\n",
       "        vertical-align: top;\n",
       "    }\n",
       "\n",
       "    .dataframe thead th {\n",
       "        text-align: right;\n",
       "    }\n",
       "</style>\n",
       "<table border=\"1\" class=\"dataframe\">\n",
       "  <thead>\n",
       "    <tr style=\"text-align: right;\">\n",
       "      <th></th>\n",
       "      <th>Coupon_id</th>\n",
       "      <th>Date_received</th>\n",
       "      <th>Distance</th>\n",
       "      <th>Merchant_id</th>\n",
       "      <th>User_id</th>\n",
       "      <th>label</th>\n",
       "      <th>Merchant_id_repeat</th>\n",
       "      <th>Coupon_id_repeat</th>\n",
       "      <th>Discount_price</th>\n",
       "      <th>Discount_rate_y</th>\n",
       "      <th>Need_buy_price</th>\n",
       "    </tr>\n",
       "  </thead>\n",
       "  <tbody>\n",
       "    <tr>\n",
       "      <th>23520</th>\n",
       "      <td>9675.0000</td>\n",
       "      <td>20160425.0000</td>\n",
       "      <td>0.0000</td>\n",
       "      <td>3926</td>\n",
       "      <td>4278132</td>\n",
       "      <td>0.0000</td>\n",
       "      <td>2160</td>\n",
       "      <td>1905</td>\n",
       "      <td>20</td>\n",
       "      <td>0.3333</td>\n",
       "      <td>30</td>\n",
       "    </tr>\n",
       "    <tr>\n",
       "      <th>24555</th>\n",
       "      <td>899.0000</td>\n",
       "      <td>20160205.0000</td>\n",
       "      <td>1.0000</td>\n",
       "      <td>21</td>\n",
       "      <td>209308</td>\n",
       "      <td>0.0000</td>\n",
       "      <td>2160</td>\n",
       "      <td>1905</td>\n",
       "      <td>20</td>\n",
       "      <td>0.3333</td>\n",
       "      <td>30</td>\n",
       "    </tr>\n",
       "    <tr>\n",
       "      <th>71498</th>\n",
       "      <td>9235.0000</td>\n",
       "      <td>20160314.0000</td>\n",
       "      <td>0.0000</td>\n",
       "      <td>4153</td>\n",
       "      <td>5519592</td>\n",
       "      <td>0.0000</td>\n",
       "      <td>2160</td>\n",
       "      <td>1905</td>\n",
       "      <td>30</td>\n",
       "      <td>0.4000</td>\n",
       "      <td>50</td>\n",
       "    </tr>\n",
       "    <tr>\n",
       "      <th>208070</th>\n",
       "      <td>899.0000</td>\n",
       "      <td>20160101.0000</td>\n",
       "      <td>nan</td>\n",
       "      <td>21</td>\n",
       "      <td>5247943</td>\n",
       "      <td>0.0000</td>\n",
       "      <td>2160</td>\n",
       "      <td>1905</td>\n",
       "      <td>20</td>\n",
       "      <td>0.3333</td>\n",
       "      <td>30</td>\n",
       "    </tr>\n",
       "    <tr>\n",
       "      <th>211091</th>\n",
       "      <td>899.0000</td>\n",
       "      <td>20160411.0000</td>\n",
       "      <td>10.0000</td>\n",
       "      <td>21</td>\n",
       "      <td>6849595</td>\n",
       "      <td>0.0000</td>\n",
       "      <td>2160</td>\n",
       "      <td>1905</td>\n",
       "      <td>20</td>\n",
       "      <td>0.3333</td>\n",
       "      <td>30</td>\n",
       "    </tr>\n",
       "    <tr>\n",
       "      <th>292635</th>\n",
       "      <td>899.0000</td>\n",
       "      <td>20160108.0000</td>\n",
       "      <td>3.0000</td>\n",
       "      <td>21</td>\n",
       "      <td>1875718</td>\n",
       "      <td>0.0000</td>\n",
       "      <td>2160</td>\n",
       "      <td>1905</td>\n",
       "      <td>20</td>\n",
       "      <td>0.3333</td>\n",
       "      <td>30</td>\n",
       "    </tr>\n",
       "    <tr>\n",
       "      <th>389412</th>\n",
       "      <td>899.0000</td>\n",
       "      <td>20160114.0000</td>\n",
       "      <td>0.0000</td>\n",
       "      <td>21</td>\n",
       "      <td>3587899</td>\n",
       "      <td>0.0000</td>\n",
       "      <td>2160</td>\n",
       "      <td>1905</td>\n",
       "      <td>20</td>\n",
       "      <td>0.3333</td>\n",
       "      <td>30</td>\n",
       "    </tr>\n",
       "    <tr>\n",
       "      <th>390679</th>\n",
       "      <td>10614.0000</td>\n",
       "      <td>20160418.0000</td>\n",
       "      <td>nan</td>\n",
       "      <td>6521</td>\n",
       "      <td>6962830</td>\n",
       "      <td>0.0000</td>\n",
       "      <td>2160</td>\n",
       "      <td>1905</td>\n",
       "      <td>30</td>\n",
       "      <td>0.4000</td>\n",
       "      <td>50</td>\n",
       "    </tr>\n",
       "    <tr>\n",
       "      <th>405873</th>\n",
       "      <td>10614.0000</td>\n",
       "      <td>20160426.0000</td>\n",
       "      <td>3.0000</td>\n",
       "      <td>6521</td>\n",
       "      <td>4013509</td>\n",
       "      <td>0.0000</td>\n",
       "      <td>2160</td>\n",
       "      <td>1905</td>\n",
       "      <td>30</td>\n",
       "      <td>0.4000</td>\n",
       "      <td>50</td>\n",
       "    </tr>\n",
       "    <tr>\n",
       "      <th>453749</th>\n",
       "      <td>10614.0000</td>\n",
       "      <td>20160418.0000</td>\n",
       "      <td>nan</td>\n",
       "      <td>6521</td>\n",
       "      <td>5339991</td>\n",
       "      <td>0.0000</td>\n",
       "      <td>2160</td>\n",
       "      <td>1905</td>\n",
       "      <td>30</td>\n",
       "      <td>0.4000</td>\n",
       "      <td>50</td>\n",
       "    </tr>\n",
       "    <tr>\n",
       "      <th>475203</th>\n",
       "      <td>10614.0000</td>\n",
       "      <td>20160418.0000</td>\n",
       "      <td>2.0000</td>\n",
       "      <td>6521</td>\n",
       "      <td>1185669</td>\n",
       "      <td>0.0000</td>\n",
       "      <td>2160</td>\n",
       "      <td>1905</td>\n",
       "      <td>30</td>\n",
       "      <td>0.4000</td>\n",
       "      <td>50</td>\n",
       "    </tr>\n",
       "    <tr>\n",
       "      <th>481596</th>\n",
       "      <td>899.0000</td>\n",
       "      <td>20160323.0000</td>\n",
       "      <td>0.0000</td>\n",
       "      <td>21</td>\n",
       "      <td>1588881</td>\n",
       "      <td>1.0000</td>\n",
       "      <td>2160</td>\n",
       "      <td>1905</td>\n",
       "      <td>20</td>\n",
       "      <td>0.3333</td>\n",
       "      <td>30</td>\n",
       "    </tr>\n",
       "    <tr>\n",
       "      <th>522786</th>\n",
       "      <td>10614.0000</td>\n",
       "      <td>20160418.0000</td>\n",
       "      <td>4.0000</td>\n",
       "      <td>6521</td>\n",
       "      <td>167772</td>\n",
       "      <td>1.0000</td>\n",
       "      <td>2160</td>\n",
       "      <td>1905</td>\n",
       "      <td>30</td>\n",
       "      <td>0.4000</td>\n",
       "      <td>50</td>\n",
       "    </tr>\n",
       "    <tr>\n",
       "      <th>559448</th>\n",
       "      <td>10614.0000</td>\n",
       "      <td>20160418.0000</td>\n",
       "      <td>0.0000</td>\n",
       "      <td>6521</td>\n",
       "      <td>5235868</td>\n",
       "      <td>0.0000</td>\n",
       "      <td>2160</td>\n",
       "      <td>1905</td>\n",
       "      <td>30</td>\n",
       "      <td>0.4000</td>\n",
       "      <td>50</td>\n",
       "    </tr>\n",
       "    <tr>\n",
       "      <th>694303</th>\n",
       "      <td>10614.0000</td>\n",
       "      <td>20160418.0000</td>\n",
       "      <td>5.0000</td>\n",
       "      <td>6521</td>\n",
       "      <td>6980094</td>\n",
       "      <td>0.0000</td>\n",
       "      <td>2160</td>\n",
       "      <td>1905</td>\n",
       "      <td>30</td>\n",
       "      <td>0.4000</td>\n",
       "      <td>50</td>\n",
       "    </tr>\n",
       "    <tr>\n",
       "      <th>696590</th>\n",
       "      <td>10614.0000</td>\n",
       "      <td>20160420.0000</td>\n",
       "      <td>nan</td>\n",
       "      <td>6521</td>\n",
       "      <td>6889043</td>\n",
       "      <td>0.0000</td>\n",
       "      <td>2160</td>\n",
       "      <td>1905</td>\n",
       "      <td>30</td>\n",
       "      <td>0.4000</td>\n",
       "      <td>50</td>\n",
       "    </tr>\n",
       "    <tr>\n",
       "      <th>699967</th>\n",
       "      <td>899.0000</td>\n",
       "      <td>20160304.0000</td>\n",
       "      <td>2.0000</td>\n",
       "      <td>21</td>\n",
       "      <td>5805779</td>\n",
       "      <td>0.0000</td>\n",
       "      <td>2160</td>\n",
       "      <td>1905</td>\n",
       "      <td>20</td>\n",
       "      <td>0.3333</td>\n",
       "      <td>30</td>\n",
       "    </tr>\n",
       "    <tr>\n",
       "      <th>788118</th>\n",
       "      <td>8880.0000</td>\n",
       "      <td>20160531.0000</td>\n",
       "      <td>0.0000</td>\n",
       "      <td>4937</td>\n",
       "      <td>1503092</td>\n",
       "      <td>nan</td>\n",
       "      <td>2160</td>\n",
       "      <td>1905</td>\n",
       "      <td>20</td>\n",
       "      <td>0.3333</td>\n",
       "      <td>30</td>\n",
       "    </tr>\n",
       "    <tr>\n",
       "      <th>790708</th>\n",
       "      <td>8880.0000</td>\n",
       "      <td>20160610.0000</td>\n",
       "      <td>3.0000</td>\n",
       "      <td>4937</td>\n",
       "      <td>4912661</td>\n",
       "      <td>nan</td>\n",
       "      <td>2160</td>\n",
       "      <td>1905</td>\n",
       "      <td>20</td>\n",
       "      <td>0.3333</td>\n",
       "      <td>30</td>\n",
       "    </tr>\n",
       "    <tr>\n",
       "      <th>801962</th>\n",
       "      <td>8880.0000</td>\n",
       "      <td>20160609.0000</td>\n",
       "      <td>8.0000</td>\n",
       "      <td>4937</td>\n",
       "      <td>3549963</td>\n",
       "      <td>nan</td>\n",
       "      <td>2160</td>\n",
       "      <td>1905</td>\n",
       "      <td>20</td>\n",
       "      <td>0.3333</td>\n",
       "      <td>30</td>\n",
       "    </tr>\n",
       "    <tr>\n",
       "      <th>803733</th>\n",
       "      <td>8880.0000</td>\n",
       "      <td>20160528.0000</td>\n",
       "      <td>0.0000</td>\n",
       "      <td>4937</td>\n",
       "      <td>5243486</td>\n",
       "      <td>nan</td>\n",
       "      <td>2160</td>\n",
       "      <td>1905</td>\n",
       "      <td>20</td>\n",
       "      <td>0.3333</td>\n",
       "      <td>30</td>\n",
       "    </tr>\n",
       "    <tr>\n",
       "      <th>828555</th>\n",
       "      <td>8880.0000</td>\n",
       "      <td>20160609.0000</td>\n",
       "      <td>7.0000</td>\n",
       "      <td>4937</td>\n",
       "      <td>7281295</td>\n",
       "      <td>nan</td>\n",
       "      <td>2160</td>\n",
       "      <td>1905</td>\n",
       "      <td>20</td>\n",
       "      <td>0.3333</td>\n",
       "      <td>30</td>\n",
       "    </tr>\n",
       "    <tr>\n",
       "      <th>836185</th>\n",
       "      <td>8880.0000</td>\n",
       "      <td>20160610.0000</td>\n",
       "      <td>10.0000</td>\n",
       "      <td>4937</td>\n",
       "      <td>5458243</td>\n",
       "      <td>nan</td>\n",
       "      <td>2160</td>\n",
       "      <td>1905</td>\n",
       "      <td>20</td>\n",
       "      <td>0.3333</td>\n",
       "      <td>30</td>\n",
       "    </tr>\n",
       "    <tr>\n",
       "      <th>856399</th>\n",
       "      <td>8880.0000</td>\n",
       "      <td>20160608.0000</td>\n",
       "      <td>0.0000</td>\n",
       "      <td>4937</td>\n",
       "      <td>7117652</td>\n",
       "      <td>nan</td>\n",
       "      <td>2160</td>\n",
       "      <td>1905</td>\n",
       "      <td>20</td>\n",
       "      <td>0.3333</td>\n",
       "      <td>30</td>\n",
       "    </tr>\n",
       "    <tr>\n",
       "      <th>902968</th>\n",
       "      <td>8880.0000</td>\n",
       "      <td>20160529.0000</td>\n",
       "      <td>0.0000</td>\n",
       "      <td>4937</td>\n",
       "      <td>6817225</td>\n",
       "      <td>nan</td>\n",
       "      <td>2160</td>\n",
       "      <td>1905</td>\n",
       "      <td>20</td>\n",
       "      <td>0.3333</td>\n",
       "      <td>30</td>\n",
       "    </tr>\n",
       "    <tr>\n",
       "      <th>933438</th>\n",
       "      <td>8880.0000</td>\n",
       "      <td>20160529.0000</td>\n",
       "      <td>1.0000</td>\n",
       "      <td>4937</td>\n",
       "      <td>4681611</td>\n",
       "      <td>nan</td>\n",
       "      <td>2160</td>\n",
       "      <td>1905</td>\n",
       "      <td>20</td>\n",
       "      <td>0.3333</td>\n",
       "      <td>30</td>\n",
       "    </tr>\n",
       "    <tr>\n",
       "      <th>939621</th>\n",
       "      <td>8880.0000</td>\n",
       "      <td>20160528.0000</td>\n",
       "      <td>nan</td>\n",
       "      <td>4937</td>\n",
       "      <td>5135823</td>\n",
       "      <td>nan</td>\n",
       "      <td>2160</td>\n",
       "      <td>1905</td>\n",
       "      <td>20</td>\n",
       "      <td>0.3333</td>\n",
       "      <td>30</td>\n",
       "    </tr>\n",
       "    <tr>\n",
       "      <th>940221</th>\n",
       "      <td>8880.0000</td>\n",
       "      <td>20160530.0000</td>\n",
       "      <td>8.0000</td>\n",
       "      <td>4937</td>\n",
       "      <td>23130</td>\n",
       "      <td>nan</td>\n",
       "      <td>2160</td>\n",
       "      <td>1905</td>\n",
       "      <td>20</td>\n",
       "      <td>0.3333</td>\n",
       "      <td>30</td>\n",
       "    </tr>\n",
       "    <tr>\n",
       "      <th>950429</th>\n",
       "      <td>8880.0000</td>\n",
       "      <td>20160605.0000</td>\n",
       "      <td>0.0000</td>\n",
       "      <td>4937</td>\n",
       "      <td>773336</td>\n",
       "      <td>nan</td>\n",
       "      <td>2160</td>\n",
       "      <td>1905</td>\n",
       "      <td>20</td>\n",
       "      <td>0.3333</td>\n",
       "      <td>30</td>\n",
       "    </tr>\n",
       "    <tr>\n",
       "      <th>956287</th>\n",
       "      <td>8880.0000</td>\n",
       "      <td>20160612.0000</td>\n",
       "      <td>1.0000</td>\n",
       "      <td>4937</td>\n",
       "      <td>1021157</td>\n",
       "      <td>nan</td>\n",
       "      <td>2160</td>\n",
       "      <td>1905</td>\n",
       "      <td>20</td>\n",
       "      <td>0.3333</td>\n",
       "      <td>30</td>\n",
       "    </tr>\n",
       "    <tr>\n",
       "      <th>979709</th>\n",
       "      <td>8880.0000</td>\n",
       "      <td>20160606.0000</td>\n",
       "      <td>1.0000</td>\n",
       "      <td>4937</td>\n",
       "      <td>1961784</td>\n",
       "      <td>nan</td>\n",
       "      <td>2160</td>\n",
       "      <td>1905</td>\n",
       "      <td>20</td>\n",
       "      <td>0.3333</td>\n",
       "      <td>30</td>\n",
       "    </tr>\n",
       "    <tr>\n",
       "      <th>983782</th>\n",
       "      <td>8880.0000</td>\n",
       "      <td>20160526.0000</td>\n",
       "      <td>0.0000</td>\n",
       "      <td>4937</td>\n",
       "      <td>1505355</td>\n",
       "      <td>nan</td>\n",
       "      <td>2160</td>\n",
       "      <td>1905</td>\n",
       "      <td>20</td>\n",
       "      <td>0.3333</td>\n",
       "      <td>30</td>\n",
       "    </tr>\n",
       "    <tr>\n",
       "      <th>1022627</th>\n",
       "      <td>8880.0000</td>\n",
       "      <td>20160611.0000</td>\n",
       "      <td>0.0000</td>\n",
       "      <td>4937</td>\n",
       "      <td>2331725</td>\n",
       "      <td>nan</td>\n",
       "      <td>2160</td>\n",
       "      <td>1905</td>\n",
       "      <td>20</td>\n",
       "      <td>0.3333</td>\n",
       "      <td>30</td>\n",
       "    </tr>\n",
       "  </tbody>\n",
       "</table>\n",
       "</div>"
      ],
      "text/plain": [
       "         Coupon_id  Date_received  Distance  Merchant_id  User_id  label  \\\n",
       "23520    9675.0000  20160425.0000    0.0000         3926  4278132 0.0000   \n",
       "24555     899.0000  20160205.0000    1.0000           21   209308 0.0000   \n",
       "71498    9235.0000  20160314.0000    0.0000         4153  5519592 0.0000   \n",
       "208070    899.0000  20160101.0000       nan           21  5247943 0.0000   \n",
       "211091    899.0000  20160411.0000   10.0000           21  6849595 0.0000   \n",
       "292635    899.0000  20160108.0000    3.0000           21  1875718 0.0000   \n",
       "389412    899.0000  20160114.0000    0.0000           21  3587899 0.0000   \n",
       "390679  10614.0000  20160418.0000       nan         6521  6962830 0.0000   \n",
       "405873  10614.0000  20160426.0000    3.0000         6521  4013509 0.0000   \n",
       "453749  10614.0000  20160418.0000       nan         6521  5339991 0.0000   \n",
       "475203  10614.0000  20160418.0000    2.0000         6521  1185669 0.0000   \n",
       "481596    899.0000  20160323.0000    0.0000           21  1588881 1.0000   \n",
       "522786  10614.0000  20160418.0000    4.0000         6521   167772 1.0000   \n",
       "559448  10614.0000  20160418.0000    0.0000         6521  5235868 0.0000   \n",
       "694303  10614.0000  20160418.0000    5.0000         6521  6980094 0.0000   \n",
       "696590  10614.0000  20160420.0000       nan         6521  6889043 0.0000   \n",
       "699967    899.0000  20160304.0000    2.0000           21  5805779 0.0000   \n",
       "788118   8880.0000  20160531.0000    0.0000         4937  1503092    nan   \n",
       "790708   8880.0000  20160610.0000    3.0000         4937  4912661    nan   \n",
       "801962   8880.0000  20160609.0000    8.0000         4937  3549963    nan   \n",
       "803733   8880.0000  20160528.0000    0.0000         4937  5243486    nan   \n",
       "828555   8880.0000  20160609.0000    7.0000         4937  7281295    nan   \n",
       "836185   8880.0000  20160610.0000   10.0000         4937  5458243    nan   \n",
       "856399   8880.0000  20160608.0000    0.0000         4937  7117652    nan   \n",
       "902968   8880.0000  20160529.0000    0.0000         4937  6817225    nan   \n",
       "933438   8880.0000  20160529.0000    1.0000         4937  4681611    nan   \n",
       "939621   8880.0000  20160528.0000       nan         4937  5135823    nan   \n",
       "940221   8880.0000  20160530.0000    8.0000         4937    23130    nan   \n",
       "950429   8880.0000  20160605.0000    0.0000         4937   773336    nan   \n",
       "956287   8880.0000  20160612.0000    1.0000         4937  1021157    nan   \n",
       "979709   8880.0000  20160606.0000    1.0000         4937  1961784    nan   \n",
       "983782   8880.0000  20160526.0000    0.0000         4937  1505355    nan   \n",
       "1022627  8880.0000  20160611.0000    0.0000         4937  2331725    nan   \n",
       "\n",
       "         Merchant_id_repeat  Coupon_id_repeat Discount_price  Discount_rate_y  \\\n",
       "23520                  2160              1905             20           0.3333   \n",
       "24555                  2160              1905             20           0.3333   \n",
       "71498                  2160              1905             30           0.4000   \n",
       "208070                 2160              1905             20           0.3333   \n",
       "211091                 2160              1905             20           0.3333   \n",
       "292635                 2160              1905             20           0.3333   \n",
       "389412                 2160              1905             20           0.3333   \n",
       "390679                 2160              1905             30           0.4000   \n",
       "405873                 2160              1905             30           0.4000   \n",
       "453749                 2160              1905             30           0.4000   \n",
       "475203                 2160              1905             30           0.4000   \n",
       "481596                 2160              1905             20           0.3333   \n",
       "522786                 2160              1905             30           0.4000   \n",
       "559448                 2160              1905             30           0.4000   \n",
       "694303                 2160              1905             30           0.4000   \n",
       "696590                 2160              1905             30           0.4000   \n",
       "699967                 2160              1905             20           0.3333   \n",
       "788118                 2160              1905             20           0.3333   \n",
       "790708                 2160              1905             20           0.3333   \n",
       "801962                 2160              1905             20           0.3333   \n",
       "803733                 2160              1905             20           0.3333   \n",
       "828555                 2160              1905             20           0.3333   \n",
       "836185                 2160              1905             20           0.3333   \n",
       "856399                 2160              1905             20           0.3333   \n",
       "902968                 2160              1905             20           0.3333   \n",
       "933438                 2160              1905             20           0.3333   \n",
       "939621                 2160              1905             20           0.3333   \n",
       "940221                 2160              1905             20           0.3333   \n",
       "950429                 2160              1905             20           0.3333   \n",
       "956287                 2160              1905             20           0.3333   \n",
       "979709                 2160              1905             20           0.3333   \n",
       "983782                 2160              1905             20           0.3333   \n",
       "1022627                2160              1905             20           0.3333   \n",
       "\n",
       "        Need_buy_price  \n",
       "23520               30  \n",
       "24555               30  \n",
       "71498               50  \n",
       "208070              30  \n",
       "211091              30  \n",
       "292635              30  \n",
       "389412              30  \n",
       "390679              50  \n",
       "405873              50  \n",
       "453749              50  \n",
       "475203              50  \n",
       "481596              30  \n",
       "522786              50  \n",
       "559448              50  \n",
       "694303              50  \n",
       "696590              50  \n",
       "699967              30  \n",
       "788118              30  \n",
       "790708              30  \n",
       "801962              30  \n",
       "803733              30  \n",
       "828555              30  \n",
       "836185              30  \n",
       "856399              30  \n",
       "902968              30  \n",
       "933438              30  \n",
       "939621              30  \n",
       "940221              30  \n",
       "950429              30  \n",
       "956287              30  \n",
       "979709              30  \n",
       "983782              30  \n",
       "1022627             30  "
      ]
     },
     "execution_count": 41,
     "metadata": {},
     "output_type": "execute_result"
    }
   ],
   "source": [
    "all_data.loc[(all_data['Discount_rate_y'] < 0.5) & (~all_data['Discount_price'].isnull())]  #打五折以上的價格差不多在30~50之間"
   ]
  },
  {
   "cell_type": "code",
   "execution_count": 42,
   "metadata": {},
   "outputs": [
    {
     "data": {
      "text/plain": [
       "0    30\n",
       "dtype: object"
      ]
     },
     "execution_count": 42,
     "metadata": {},
     "output_type": "execute_result"
    }
   ],
   "source": [
    "all_data.loc[(all_data['Discount_rate_y'] < 0.5) & (~all_data['Discount_price'].isnull())]['Need_buy_price'].mode()"
   ]
  },
  {
   "cell_type": "markdown",
   "metadata": {},
   "source": [
    "> 以眾數為30 但估計打到8折以上 不會是太貴的商品 故除以2填補 Need_buy_price缺失值"
   ]
  },
  {
   "cell_type": "code",
   "execution_count": 43,
   "metadata": {},
   "outputs": [],
   "source": [
    "all_data['Need_buy_price'] = all_data['Need_buy_price'].fillna(15)"
   ]
  },
  {
   "cell_type": "code",
   "execution_count": 44,
   "metadata": {},
   "outputs": [],
   "source": [
    "all_data['Discount_price'] = all_data.apply(lambda x : float(x['Discount_rate_y']) * int(x['Need_buy_price']), axis = 1)"
   ]
  },
  {
   "cell_type": "markdown",
   "metadata": {},
   "source": [
    "Coupon_id 缺失值用None填補"
   ]
  },
  {
   "cell_type": "code",
   "execution_count": 45,
   "metadata": {
    "scrolled": true
   },
   "outputs": [],
   "source": [
    "all_data['Coupon_id'] = all_data['Coupon_id'].fillna('None').apply(str)"
   ]
  },
  {
   "cell_type": "markdown",
   "metadata": {},
   "source": [
    "Distance 缺失值用距離平均填補"
   ]
  },
  {
   "cell_type": "code",
   "execution_count": 46,
   "metadata": {},
   "outputs": [],
   "source": [
    "all_data['Distance'] = all_data['Distance'].fillna(all_data['Distance'].mean())"
   ]
  },
  {
   "cell_type": "markdown",
   "metadata": {},
   "source": [
    "將Reeived 改成星期 1~7，並把是否為周末的特徵補上"
   ]
  },
  {
   "cell_type": "code",
   "execution_count": 47,
   "metadata": {},
   "outputs": [],
   "source": [
    "import datetime\n",
    "all_data['Date_received'] = all_data['Date_received'].fillna(0)\n",
    "all_data['Date_received'] = all_data['Date_received'].apply(int)"
   ]
  },
  {
   "cell_type": "code",
   "execution_count": 48,
   "metadata": {},
   "outputs": [],
   "source": [
    "all_data['Date_received'] = all_data['Date_received'].apply(str)"
   ]
  },
  {
   "cell_type": "code",
   "execution_count": 49,
   "metadata": {},
   "outputs": [],
   "source": [
    "all_data['Date_received'] = all_data['Date_received'].apply(lambda x : pd.to_datetime(x) if x != '0' else '0')"
   ]
  },
  {
   "cell_type": "code",
   "execution_count": 50,
   "metadata": {},
   "outputs": [],
   "source": [
    "all_data['Weekday'] = all_data['Date_received'].apply(lambda x: x.weekday() + 1 if x != '0' else 0)"
   ]
  },
  {
   "cell_type": "code",
   "execution_count": 51,
   "metadata": {},
   "outputs": [
    {
     "data": {
      "text/plain": [
       "7    192614\n",
       "5    168071\n",
       "1    162069\n",
       "6    160211\n",
       "4    132771\n",
       "3    122754\n",
       "2    114792\n",
       "Name: Weekday, dtype: int64"
      ]
     },
     "execution_count": 51,
     "metadata": {},
     "output_type": "execute_result"
    }
   ],
   "source": [
    "all_data['Weekday'].value_counts()"
   ]
  },
  {
   "cell_type": "code",
   "execution_count": 52,
   "metadata": {},
   "outputs": [],
   "source": [
    "all_data['received_weekend'] = all_data['Weekday'].apply(lambda x : 1  if x == 6 or x == 7 else 0)"
   ]
  },
  {
   "cell_type": "code",
   "execution_count": 53,
   "metadata": {},
   "outputs": [
    {
     "data": {
      "text/html": [
       "<div>\n",
       "<style scoped>\n",
       "    .dataframe tbody tr th:only-of-type {\n",
       "        vertical-align: middle;\n",
       "    }\n",
       "\n",
       "    .dataframe tbody tr th {\n",
       "        vertical-align: top;\n",
       "    }\n",
       "\n",
       "    .dataframe thead th {\n",
       "        text-align: right;\n",
       "    }\n",
       "</style>\n",
       "<table border=\"1\" class=\"dataframe\">\n",
       "  <thead>\n",
       "    <tr style=\"text-align: right;\">\n",
       "      <th></th>\n",
       "      <th>Coupon_id</th>\n",
       "      <th>Date_received</th>\n",
       "      <th>Distance</th>\n",
       "      <th>Merchant_id</th>\n",
       "      <th>User_id</th>\n",
       "      <th>label</th>\n",
       "      <th>Merchant_id_repeat</th>\n",
       "      <th>Coupon_id_repeat</th>\n",
       "      <th>Discount_price</th>\n",
       "      <th>Discount_rate_y</th>\n",
       "      <th>Need_buy_price</th>\n",
       "      <th>Weekday</th>\n",
       "      <th>received_weekend</th>\n",
       "    </tr>\n",
       "  </thead>\n",
       "  <tbody>\n",
       "    <tr>\n",
       "      <th>0</th>\n",
       "      <td>8591.0</td>\n",
       "      <td>2016-02-17</td>\n",
       "      <td>0.0000</td>\n",
       "      <td>2632</td>\n",
       "      <td>1439408</td>\n",
       "      <td>0.0000</td>\n",
       "      <td>439</td>\n",
       "      <td>1687</td>\n",
       "      <td>19.0000</td>\n",
       "      <td>0.9500</td>\n",
       "      <td>20</td>\n",
       "      <td>3</td>\n",
       "      <td>0</td>\n",
       "    </tr>\n",
       "    <tr>\n",
       "      <th>1</th>\n",
       "      <td>1078.0</td>\n",
       "      <td>2016-03-19</td>\n",
       "      <td>0.0000</td>\n",
       "      <td>2632</td>\n",
       "      <td>1439408</td>\n",
       "      <td>0.0000</td>\n",
       "      <td>439</td>\n",
       "      <td>116</td>\n",
       "      <td>19.0000</td>\n",
       "      <td>0.9500</td>\n",
       "      <td>20</td>\n",
       "      <td>6</td>\n",
       "      <td>1</td>\n",
       "    </tr>\n",
       "    <tr>\n",
       "      <th>2</th>\n",
       "      <td>7610.0</td>\n",
       "      <td>2016-04-29</td>\n",
       "      <td>0.0000</td>\n",
       "      <td>3381</td>\n",
       "      <td>1832624</td>\n",
       "      <td>0.0000</td>\n",
       "      <td>647</td>\n",
       "      <td>1535</td>\n",
       "      <td>180.0000</td>\n",
       "      <td>0.9000</td>\n",
       "      <td>200</td>\n",
       "      <td>5</td>\n",
       "      <td>0</td>\n",
       "    </tr>\n",
       "    <tr>\n",
       "      <th>3</th>\n",
       "      <td>11951.0</td>\n",
       "      <td>2016-01-29</td>\n",
       "      <td>1.0000</td>\n",
       "      <td>3381</td>\n",
       "      <td>2029232</td>\n",
       "      <td>0.0000</td>\n",
       "      <td>647</td>\n",
       "      <td>1905</td>\n",
       "      <td>180.0000</td>\n",
       "      <td>0.9000</td>\n",
       "      <td>200</td>\n",
       "      <td>5</td>\n",
       "      <td>0</td>\n",
       "    </tr>\n",
       "    <tr>\n",
       "      <th>4</th>\n",
       "      <td>9776.0</td>\n",
       "      <td>2016-01-29</td>\n",
       "      <td>2.0000</td>\n",
       "      <td>3381</td>\n",
       "      <td>2223968</td>\n",
       "      <td>0.0000</td>\n",
       "      <td>647</td>\n",
       "      <td>1905</td>\n",
       "      <td>5.0000</td>\n",
       "      <td>0.5000</td>\n",
       "      <td>10</td>\n",
       "      <td>5</td>\n",
       "      <td>0</td>\n",
       "    </tr>\n",
       "  </tbody>\n",
       "</table>\n",
       "</div>"
      ],
      "text/plain": [
       "  Coupon_id Date_received  Distance  Merchant_id  User_id  label  \\\n",
       "0    8591.0    2016-02-17    0.0000         2632  1439408 0.0000   \n",
       "1    1078.0    2016-03-19    0.0000         2632  1439408 0.0000   \n",
       "2    7610.0    2016-04-29    0.0000         3381  1832624 0.0000   \n",
       "3   11951.0    2016-01-29    1.0000         3381  2029232 0.0000   \n",
       "4    9776.0    2016-01-29    2.0000         3381  2223968 0.0000   \n",
       "\n",
       "   Merchant_id_repeat  Coupon_id_repeat  Discount_price  Discount_rate_y  \\\n",
       "0                 439              1687         19.0000           0.9500   \n",
       "1                 439               116         19.0000           0.9500   \n",
       "2                 647              1535        180.0000           0.9000   \n",
       "3                 647              1905        180.0000           0.9000   \n",
       "4                 647              1905          5.0000           0.5000   \n",
       "\n",
       "  Need_buy_price  Weekday  received_weekend  \n",
       "0             20        3                 0  \n",
       "1             20        6                 1  \n",
       "2            200        5                 0  \n",
       "3            200        5                 0  \n",
       "4             10        5                 0  "
      ]
     },
     "execution_count": 53,
     "metadata": {},
     "output_type": "execute_result"
    }
   ],
   "source": [
    "all_data.head()"
   ]
  },
  {
   "cell_type": "markdown",
   "metadata": {},
   "source": [
    "將Merchant_id、Coupon_id 的數量(count)特徵補上"
   ]
  },
  {
   "cell_type": "code",
   "execution_count": 54,
   "metadata": {
    "scrolled": true
   },
   "outputs": [],
   "source": [
    "all_data['Merchant_count'] = all_data.groupby('Merchant_id')['Merchant_id'].transform('count')"
   ]
  },
  {
   "cell_type": "code",
   "execution_count": 55,
   "metadata": {},
   "outputs": [],
   "source": [
    "all_data['Coupon_count'] = all_data.groupby('Coupon_id')['Coupon_id'].transform('count')"
   ]
  },
  {
   "cell_type": "markdown",
   "metadata": {},
   "source": [
    "Distance 能不能搞點東西出來"
   ]
  },
  {
   "cell_type": "code",
   "execution_count": 56,
   "metadata": {},
   "outputs": [
    {
     "data": {
      "text/html": [
       "<div>\n",
       "<style scoped>\n",
       "    .dataframe tbody tr th:only-of-type {\n",
       "        vertical-align: middle;\n",
       "    }\n",
       "\n",
       "    .dataframe tbody tr th {\n",
       "        vertical-align: top;\n",
       "    }\n",
       "\n",
       "    .dataframe thead th {\n",
       "        text-align: right;\n",
       "    }\n",
       "</style>\n",
       "<table border=\"1\" class=\"dataframe\">\n",
       "  <thead>\n",
       "    <tr style=\"text-align: right;\">\n",
       "      <th></th>\n",
       "      <th>Coupon_id</th>\n",
       "      <th>Date_received</th>\n",
       "      <th>Distance</th>\n",
       "      <th>Merchant_id</th>\n",
       "      <th>User_id</th>\n",
       "      <th>label</th>\n",
       "      <th>Merchant_id_repeat</th>\n",
       "      <th>Coupon_id_repeat</th>\n",
       "      <th>Discount_price</th>\n",
       "      <th>Discount_rate_y</th>\n",
       "      <th>Need_buy_price</th>\n",
       "      <th>Weekday</th>\n",
       "      <th>received_weekend</th>\n",
       "      <th>Merchant_count</th>\n",
       "      <th>Coupon_count</th>\n",
       "    </tr>\n",
       "  </thead>\n",
       "  <tbody>\n",
       "    <tr>\n",
       "      <th>0</th>\n",
       "      <td>8591.0</td>\n",
       "      <td>2016-02-17</td>\n",
       "      <td>0.0000</td>\n",
       "      <td>2632</td>\n",
       "      <td>1439408</td>\n",
       "      <td>0.0000</td>\n",
       "      <td>439</td>\n",
       "      <td>1687</td>\n",
       "      <td>19.0000</td>\n",
       "      <td>0.9500</td>\n",
       "      <td>20</td>\n",
       "      <td>3</td>\n",
       "      <td>0</td>\n",
       "      <td>43</td>\n",
       "      <td>31</td>\n",
       "    </tr>\n",
       "    <tr>\n",
       "      <th>1</th>\n",
       "      <td>1078.0</td>\n",
       "      <td>2016-03-19</td>\n",
       "      <td>0.0000</td>\n",
       "      <td>2632</td>\n",
       "      <td>1439408</td>\n",
       "      <td>0.0000</td>\n",
       "      <td>439</td>\n",
       "      <td>116</td>\n",
       "      <td>19.0000</td>\n",
       "      <td>0.9500</td>\n",
       "      <td>20</td>\n",
       "      <td>6</td>\n",
       "      <td>1</td>\n",
       "      <td>43</td>\n",
       "      <td>12</td>\n",
       "    </tr>\n",
       "    <tr>\n",
       "      <th>2</th>\n",
       "      <td>7610.0</td>\n",
       "      <td>2016-04-29</td>\n",
       "      <td>0.0000</td>\n",
       "      <td>3381</td>\n",
       "      <td>1832624</td>\n",
       "      <td>0.0000</td>\n",
       "      <td>647</td>\n",
       "      <td>1535</td>\n",
       "      <td>180.0000</td>\n",
       "      <td>0.9000</td>\n",
       "      <td>200</td>\n",
       "      <td>5</td>\n",
       "      <td>0</td>\n",
       "      <td>122834</td>\n",
       "      <td>46729</td>\n",
       "    </tr>\n",
       "    <tr>\n",
       "      <th>3</th>\n",
       "      <td>11951.0</td>\n",
       "      <td>2016-01-29</td>\n",
       "      <td>1.0000</td>\n",
       "      <td>3381</td>\n",
       "      <td>2029232</td>\n",
       "      <td>0.0000</td>\n",
       "      <td>647</td>\n",
       "      <td>1905</td>\n",
       "      <td>180.0000</td>\n",
       "      <td>0.9000</td>\n",
       "      <td>200</td>\n",
       "      <td>5</td>\n",
       "      <td>0</td>\n",
       "      <td>122834</td>\n",
       "      <td>26035</td>\n",
       "    </tr>\n",
       "    <tr>\n",
       "      <th>4</th>\n",
       "      <td>9776.0</td>\n",
       "      <td>2016-01-29</td>\n",
       "      <td>2.0000</td>\n",
       "      <td>3381</td>\n",
       "      <td>2223968</td>\n",
       "      <td>0.0000</td>\n",
       "      <td>647</td>\n",
       "      <td>1905</td>\n",
       "      <td>5.0000</td>\n",
       "      <td>0.5000</td>\n",
       "      <td>10</td>\n",
       "      <td>5</td>\n",
       "      <td>0</td>\n",
       "      <td>122834</td>\n",
       "      <td>10345</td>\n",
       "    </tr>\n",
       "  </tbody>\n",
       "</table>\n",
       "</div>"
      ],
      "text/plain": [
       "  Coupon_id Date_received  Distance  Merchant_id  User_id  label  \\\n",
       "0    8591.0    2016-02-17    0.0000         2632  1439408 0.0000   \n",
       "1    1078.0    2016-03-19    0.0000         2632  1439408 0.0000   \n",
       "2    7610.0    2016-04-29    0.0000         3381  1832624 0.0000   \n",
       "3   11951.0    2016-01-29    1.0000         3381  2029232 0.0000   \n",
       "4    9776.0    2016-01-29    2.0000         3381  2223968 0.0000   \n",
       "\n",
       "   Merchant_id_repeat  Coupon_id_repeat  Discount_price  Discount_rate_y  \\\n",
       "0                 439              1687         19.0000           0.9500   \n",
       "1                 439               116         19.0000           0.9500   \n",
       "2                 647              1535        180.0000           0.9000   \n",
       "3                 647              1905        180.0000           0.9000   \n",
       "4                 647              1905          5.0000           0.5000   \n",
       "\n",
       "  Need_buy_price  Weekday  received_weekend  Merchant_count  Coupon_count  \n",
       "0             20        3                 0              43            31  \n",
       "1             20        6                 1              43            12  \n",
       "2            200        5                 0          122834         46729  \n",
       "3            200        5                 0          122834         26035  \n",
       "4             10        5                 0          122834         10345  "
      ]
     },
     "execution_count": 56,
     "metadata": {},
     "output_type": "execute_result"
    }
   ],
   "source": [
    "all_data.head()"
   ]
  },
  {
   "cell_type": "markdown",
   "metadata": {},
   "source": [
    "Distance小於500公尺 為0，0對模型可能不太好，將所有值+1"
   ]
  },
  {
   "cell_type": "code",
   "execution_count": 57,
   "metadata": {},
   "outputs": [],
   "source": [
    "all_data['Distance'] = all_data['Distance'] + 1"
   ]
  },
  {
   "cell_type": "code",
   "execution_count": 58,
   "metadata": {},
   "outputs": [
    {
     "data": {
      "text/plain": [
       "count   1053282.0000\n",
       "mean          4.2288\n",
       "std           3.6222\n",
       "min           1.0000\n",
       "25%           1.0000\n",
       "50%           3.0000\n",
       "75%           6.0000\n",
       "max          11.0000\n",
       "Name: Distance, dtype: float64"
      ]
     },
     "execution_count": 58,
     "metadata": {},
     "output_type": "execute_result"
    }
   ],
   "source": [
    "all_data['Distance'].describe()"
   ]
  },
  {
   "cell_type": "code",
   "execution_count": 59,
   "metadata": {},
   "outputs": [
    {
     "name": "stdout",
     "output_type": "stream",
     "text": [
      "<class 'pandas.core.frame.DataFrame'>\n",
      "Int64Index: 1053282 entries, 0 to 1053281\n",
      "Data columns (total 15 columns):\n",
      "Coupon_id             1053282 non-null object\n",
      "Date_received         1053282 non-null datetime64[ns]\n",
      "Distance              1053282 non-null float64\n",
      "Merchant_id           1053282 non-null int64\n",
      "User_id               1053282 non-null int64\n",
      "label                 746969 non-null float64\n",
      "Merchant_id_repeat    1053282 non-null int32\n",
      "Coupon_id_repeat      1053282 non-null int32\n",
      "Discount_price        1053282 non-null float64\n",
      "Discount_rate_y       1053282 non-null float64\n",
      "Need_buy_price        1053282 non-null object\n",
      "Weekday               1053282 non-null int64\n",
      "received_weekend      1053282 non-null int64\n",
      "Merchant_count        1053282 non-null int64\n",
      "Coupon_count          1053282 non-null int64\n",
      "dtypes: datetime64[ns](1), float64(4), int32(2), int64(6), object(2)\n",
      "memory usage: 160.5+ MB\n"
     ]
    }
   ],
   "source": [
    "all_data.info()"
   ]
  },
  {
   "cell_type": "markdown",
   "metadata": {},
   "source": [
    "### 模型"
   ]
  },
  {
   "cell_type": "code",
   "execution_count": 60,
   "metadata": {},
   "outputs": [],
   "source": [
    "from sklearn import metrics\n",
    "from sklearn.ensemble import RandomForestClassifier\n",
    "from sklearn.model_selection import train_test_split"
   ]
  },
  {
   "cell_type": "code",
   "execution_count": 61,
   "metadata": {
    "scrolled": true
   },
   "outputs": [],
   "source": [
    "ntrain = all_data[:train.shape[0]]\n",
    "ntest = all_data[train.shape[0]:]"
   ]
  },
  {
   "cell_type": "code",
   "execution_count": 62,
   "metadata": {},
   "outputs": [
    {
     "name": "stderr",
     "output_type": "stream",
     "text": [
      "C:\\ProgramData\\Anaconda3\\lib\\site-packages\\pandas\\core\\frame.py:3697: SettingWithCopyWarning: \n",
      "A value is trying to be set on a copy of a slice from a DataFrame\n",
      "\n",
      "See the caveats in the documentation: http://pandas.pydata.org/pandas-docs/stable/indexing.html#indexing-view-versus-copy\n",
      "  errors=errors)\n"
     ]
    }
   ],
   "source": [
    "user_id_train = ntrain['User_id']\n",
    "ntrain.drop(['User_id'],axis = 1,inplace = True)\n",
    "\n",
    "user_id_test = ntest['User_id']\n",
    "ntest.drop(['User_id'],axis = 1,inplace = True)"
   ]
  },
  {
   "cell_type": "code",
   "execution_count": 63,
   "metadata": {},
   "outputs": [],
   "source": [
    "# x_train, x_test, y_train, y_test = train_test_split(ntrain, y_label,test_size = 0.2)\n",
    "\n",
    "# clf = RandomForestClassifier(n_estimators = 20 , max_depth = 5)\n",
    "\n",
    "# clf.fit(x_train, y_train)\n",
    "\n",
    "# y_pred = clf.predict(x_test)"
   ]
  },
  {
   "cell_type": "code",
   "execution_count": 64,
   "metadata": {},
   "outputs": [],
   "source": [
    "# acc = metrics.accuracy_score(y_test,y_pred)\n",
    "# print(\"Accuracy:\",acc)"
   ]
  },
  {
   "cell_type": "markdown",
   "metadata": {},
   "source": [
    "上述沒用 分層抽樣會導致 模型全部拆 0，準確率也很高"
   ]
  },
  {
   "cell_type": "code",
   "execution_count": 65,
   "metadata": {},
   "outputs": [
    {
     "name": "stdout",
     "output_type": "stream",
     "text": [
      "Train size : 667753, #positive: 32472.0\n",
      "Valid size: 79216, #positive: 3832.0\n"
     ]
    },
    {
     "name": "stderr",
     "output_type": "stream",
     "text": [
      "C:\\ProgramData\\Anaconda3\\lib\\site-packages\\ipykernel_launcher.py:8: SettingWithCopyWarning: \n",
      "A value is trying to be set on a copy of a slice from a DataFrame.\n",
      "Try using .loc[row_indexer,col_indexer] = value instead\n",
      "\n",
      "See the caveats in the documentation: http://pandas.pydata.org/pandas-docs/stable/indexing.html#indexing-view-versus-copy\n",
      "  \n"
     ]
    }
   ],
   "source": [
    "#Naive model\n",
    "def split_train_valid(row, date_cut = '20160416'):\n",
    "    is_train = True if row < pd.to_datetime(date_cut,\\\n",
    "    format = \"%Y%m%d\") else False\n",
    "    \n",
    "    return is_train\n",
    "\n",
    "ntrain['is_train'] = ntrain['Date_received'].apply(split_train_valid)\n",
    "train = ntrain[ntrain['is_train']]\n",
    "valid = ntrain[~ntrain['is_train']]\n",
    "train.reset_index(drop = True, inplace = True)\n",
    "valid.reset_index(drop = True, inplace = True)\n",
    "\n",
    "print(\"Train size : {}, #positive: {}\".format(len(train),train['label'].sum()))\n",
    "print(\"Valid size: {}, #positive: {}\".format(len(valid), valid[\"label\"].sum()))"
   ]
  },
  {
   "cell_type": "code",
   "execution_count": 66,
   "metadata": {},
   "outputs": [
    {
     "data": {
      "text/html": [
       "<div>\n",
       "<style scoped>\n",
       "    .dataframe tbody tr th:only-of-type {\n",
       "        vertical-align: middle;\n",
       "    }\n",
       "\n",
       "    .dataframe tbody tr th {\n",
       "        vertical-align: top;\n",
       "    }\n",
       "\n",
       "    .dataframe thead th {\n",
       "        text-align: right;\n",
       "    }\n",
       "</style>\n",
       "<table border=\"1\" class=\"dataframe\">\n",
       "  <thead>\n",
       "    <tr style=\"text-align: right;\">\n",
       "      <th></th>\n",
       "      <th>Coupon_id</th>\n",
       "      <th>Date_received</th>\n",
       "      <th>Distance</th>\n",
       "      <th>Merchant_id</th>\n",
       "      <th>label</th>\n",
       "      <th>Merchant_id_repeat</th>\n",
       "      <th>Coupon_id_repeat</th>\n",
       "      <th>Discount_price</th>\n",
       "      <th>Discount_rate_y</th>\n",
       "      <th>Need_buy_price</th>\n",
       "      <th>Weekday</th>\n",
       "      <th>received_weekend</th>\n",
       "      <th>Merchant_count</th>\n",
       "      <th>Coupon_count</th>\n",
       "      <th>is_train</th>\n",
       "    </tr>\n",
       "  </thead>\n",
       "  <tbody>\n",
       "    <tr>\n",
       "      <th>0</th>\n",
       "      <td>8591.0</td>\n",
       "      <td>2016-02-17</td>\n",
       "      <td>1.0000</td>\n",
       "      <td>2632</td>\n",
       "      <td>0.0000</td>\n",
       "      <td>439</td>\n",
       "      <td>1687</td>\n",
       "      <td>19.0000</td>\n",
       "      <td>0.9500</td>\n",
       "      <td>20</td>\n",
       "      <td>3</td>\n",
       "      <td>0</td>\n",
       "      <td>43</td>\n",
       "      <td>31</td>\n",
       "      <td>True</td>\n",
       "    </tr>\n",
       "    <tr>\n",
       "      <th>1</th>\n",
       "      <td>1078.0</td>\n",
       "      <td>2016-03-19</td>\n",
       "      <td>1.0000</td>\n",
       "      <td>2632</td>\n",
       "      <td>0.0000</td>\n",
       "      <td>439</td>\n",
       "      <td>116</td>\n",
       "      <td>19.0000</td>\n",
       "      <td>0.9500</td>\n",
       "      <td>20</td>\n",
       "      <td>6</td>\n",
       "      <td>1</td>\n",
       "      <td>43</td>\n",
       "      <td>12</td>\n",
       "      <td>True</td>\n",
       "    </tr>\n",
       "    <tr>\n",
       "      <th>2</th>\n",
       "      <td>11951.0</td>\n",
       "      <td>2016-01-29</td>\n",
       "      <td>2.0000</td>\n",
       "      <td>3381</td>\n",
       "      <td>0.0000</td>\n",
       "      <td>647</td>\n",
       "      <td>1905</td>\n",
       "      <td>180.0000</td>\n",
       "      <td>0.9000</td>\n",
       "      <td>200</td>\n",
       "      <td>5</td>\n",
       "      <td>0</td>\n",
       "      <td>122834</td>\n",
       "      <td>26035</td>\n",
       "      <td>True</td>\n",
       "    </tr>\n",
       "    <tr>\n",
       "      <th>3</th>\n",
       "      <td>9776.0</td>\n",
       "      <td>2016-01-29</td>\n",
       "      <td>3.0000</td>\n",
       "      <td>3381</td>\n",
       "      <td>0.0000</td>\n",
       "      <td>647</td>\n",
       "      <td>1905</td>\n",
       "      <td>5.0000</td>\n",
       "      <td>0.5000</td>\n",
       "      <td>10</td>\n",
       "      <td>5</td>\n",
       "      <td>0</td>\n",
       "      <td>122834</td>\n",
       "      <td>10345</td>\n",
       "      <td>True</td>\n",
       "    </tr>\n",
       "    <tr>\n",
       "      <th>4</th>\n",
       "      <td>12034.0</td>\n",
       "      <td>2016-02-07</td>\n",
       "      <td>4.2288</td>\n",
       "      <td>2099</td>\n",
       "      <td>0.0000</td>\n",
       "      <td>2160</td>\n",
       "      <td>1905</td>\n",
       "      <td>90.0000</td>\n",
       "      <td>0.9000</td>\n",
       "      <td>100</td>\n",
       "      <td>7</td>\n",
       "      <td>1</td>\n",
       "      <td>16824</td>\n",
       "      <td>16824</td>\n",
       "      <td>True</td>\n",
       "    </tr>\n",
       "  </tbody>\n",
       "</table>\n",
       "</div>"
      ],
      "text/plain": [
       "  Coupon_id Date_received  Distance  Merchant_id  label  Merchant_id_repeat  \\\n",
       "0    8591.0    2016-02-17    1.0000         2632 0.0000                 439   \n",
       "1    1078.0    2016-03-19    1.0000         2632 0.0000                 439   \n",
       "2   11951.0    2016-01-29    2.0000         3381 0.0000                 647   \n",
       "3    9776.0    2016-01-29    3.0000         3381 0.0000                 647   \n",
       "4   12034.0    2016-02-07    4.2288         2099 0.0000                2160   \n",
       "\n",
       "   Coupon_id_repeat  Discount_price  Discount_rate_y Need_buy_price  Weekday  \\\n",
       "0              1687         19.0000           0.9500             20        3   \n",
       "1               116         19.0000           0.9500             20        6   \n",
       "2              1905        180.0000           0.9000            200        5   \n",
       "3              1905          5.0000           0.5000             10        5   \n",
       "4              1905         90.0000           0.9000            100        7   \n",
       "\n",
       "   received_weekend  Merchant_count  Coupon_count  is_train  \n",
       "0                 0              43            31      True  \n",
       "1                 1              43            12      True  \n",
       "2                 0          122834         26035      True  \n",
       "3                 0          122834         10345      True  \n",
       "4                 1           16824         16824      True  "
      ]
     },
     "execution_count": 66,
     "metadata": {},
     "output_type": "execute_result"
    }
   ],
   "source": [
    "train.head()"
   ]
  },
  {
   "cell_type": "code",
   "execution_count": 67,
   "metadata": {},
   "outputs": [],
   "source": [
    "predictors = ['Distance', 'Discount_price', 'Discount_rate_y', 'Need_buy_price', 'Weekday','received_weekend',\\\n",
    "              'Merchant_id_repeat','Coupon_id_repeat','Merchant_count', 'Coupon_count']"
   ]
  },
  {
   "cell_type": "code",
   "execution_count": 68,
   "metadata": {},
   "outputs": [],
   "source": [
    "import xgboost as xgb"
   ]
  },
  {
   "cell_type": "code",
   "execution_count": 103,
   "metadata": {},
   "outputs": [],
   "source": [
    "def check_model(data, predictors):\n",
    "    \n",
    "    classifier = lambda: StackingClassifier(classifiers=[rf,model_lgb,model_xgb],meta_classifier=GBoost)\n",
    "    \n",
    "    \n",
    "    \n",
    "    model = Pipeline(steps=[\n",
    "        ('ss', StandardScaler()),\n",
    "        ('en', classifier())\n",
    "    ])\n",
    "\n",
    "    parameters = {\n",
    "        'en__alpha': [ 0.001, 0.01, 0.1],\n",
    "        'en__l1_ratio': [ 0.001, 0.01, 0.1]\n",
    "    }\n",
    "\n",
    "    folder = StratifiedKFold(n_splits=3, shuffle=True)\n",
    "    \n",
    "    grid_search = GridSearchCV(\n",
    "        model, \n",
    "        parameters, \n",
    "        cv=folder, \n",
    "        n_jobs=-1, \n",
    "        verbose=1)\n",
    "    grid_search = grid_search.fit(data[predictors], \n",
    "                                  data['label'])\n",
    "    return grid_search"
   ]
  },
  {
   "cell_type": "code",
   "execution_count": 104,
   "metadata": {
    "scrolled": true
   },
   "outputs": [
    {
     "name": "stdout",
     "output_type": "stream",
     "text": [
      "Fitting 3 folds for each of 9 candidates, totalling 27 fits\n"
     ]
    },
    {
     "name": "stderr",
     "output_type": "stream",
     "text": [
      "[Parallel(n_jobs=-1)]: Using backend LokyBackend with 4 concurrent workers.\n"
     ]
    },
    {
     "ename": "ValueError",
     "evalue": "Invalid parameter alpha for estimator StackingClassifier(average_probas=False,\n          classifiers=[RandomForestClassifier(bootstrap=False, class_weight=None, criterion='gini',\n            max_depth=4, max_features='auto', max_leaf_nodes=None,\n            min_impurity_decrease=0.0, min_impurity_split=None,\n            min_samples_leaf=10, min_samples_split=9,\n            min_weight_fr...       reg_alpha=0, reg_lambda=1, scale_pos_weight=1, seed=None,\n       silent=True, subsample=0.7)],\n          drop_last_proba=False,\n          meta_classifier=GradientBoostingClassifier(criterion='friedman_mse', init=None,\n              learning_rate=0.1, loss='huber', max_depth=4,\n              max_features=None, max_leaf_nodes=None,\n              min_impurity_decrease=0.0, min_impurity_split=None,\n              min_samples_leaf=15, min_s...      subsample=1.0, tol=0.0001, validation_fraction=0.1,\n              verbose=0, warm_start=False),\n          store_train_meta_features=False, use_clones=True,\n          use_features_in_secondary=False, use_probas=False, verbose=0). Check the list of available parameters with `estimator.get_params().keys()`.",
     "output_type": "error",
     "traceback": [
      "\u001b[1;31m---------------------------------------------------------------------------\u001b[0m",
      "\u001b[1;31m_RemoteTraceback\u001b[0m                          Traceback (most recent call last)",
      "\u001b[1;31m_RemoteTraceback\u001b[0m: \n\"\"\"\nTraceback (most recent call last):\n  File \"C:\\ProgramData\\Anaconda3\\lib\\site-packages\\sklearn\\externals\\joblib\\externals\\loky\\process_executor.py\", line 418, in _process_worker\n    r = call_item()\n  File \"C:\\ProgramData\\Anaconda3\\lib\\site-packages\\sklearn\\externals\\joblib\\externals\\loky\\process_executor.py\", line 272, in __call__\n    return self.fn(*self.args, **self.kwargs)\n  File \"C:\\ProgramData\\Anaconda3\\lib\\site-packages\\sklearn\\externals\\joblib\\_parallel_backends.py\", line 567, in __call__\n    return self.func(*args, **kwargs)\n  File \"C:\\ProgramData\\Anaconda3\\lib\\site-packages\\sklearn\\externals\\joblib\\parallel.py\", line 225, in __call__\n    for func, args, kwargs in self.items]\n  File \"C:\\ProgramData\\Anaconda3\\lib\\site-packages\\sklearn\\externals\\joblib\\parallel.py\", line 225, in <listcomp>\n    for func, args, kwargs in self.items]\n  File \"C:\\ProgramData\\Anaconda3\\lib\\site-packages\\sklearn\\model_selection\\_validation.py\", line 514, in _fit_and_score\n    estimator.set_params(**parameters)\n  File \"C:\\ProgramData\\Anaconda3\\lib\\site-packages\\sklearn\\pipeline.py\", line 147, in set_params\n    self._set_params('steps', **kwargs)\n  File \"C:\\ProgramData\\Anaconda3\\lib\\site-packages\\sklearn\\utils\\metaestimators.py\", line 52, in _set_params\n    super(_BaseComposition, self).set_params(**params)\n  File \"C:\\ProgramData\\Anaconda3\\lib\\site-packages\\sklearn\\base.py\", line 224, in set_params\n    valid_params[key].set_params(**sub_params)\n  File \"C:\\ProgramData\\Anaconda3\\lib\\site-packages\\mlxtend\\classifier\\stacking_classification.py\", line 197, in set_params\n    self._set_params('classifiers', 'named_classifiers', **params)\n  File \"C:\\ProgramData\\Anaconda3\\lib\\site-packages\\mlxtend\\utils\\base_compostion.py\", line 39, in _set_params\n    super(_BaseXComposition, self).set_params(**params)\n  File \"C:\\ProgramData\\Anaconda3\\lib\\site-packages\\sklearn\\base.py\", line 215, in set_params\n    (key, self))\nValueError: Invalid parameter alpha for estimator StackingClassifier(average_probas=False,\n          classifiers=[RandomForestClassifier(bootstrap=False, class_weight=None, criterion='gini',\n            max_depth=4, max_features='auto', max_leaf_nodes=None,\n            min_impurity_decrease=0.0, min_impurity_split=None,\n            min_samples_leaf=10, min_samples_split=9,\n            min_weight_fr...       reg_alpha=0, reg_lambda=1, scale_pos_weight=1, seed=None,\n       silent=True, subsample=0.7)],\n          drop_last_proba=False,\n          meta_classifier=GradientBoostingClassifier(criterion='friedman_mse', init=None,\n              learning_rate=0.1, loss='huber', max_depth=4,\n              max_features=None, max_leaf_nodes=None,\n              min_impurity_decrease=0.0, min_impurity_split=None,\n              min_samples_leaf=15, min_s...      subsample=1.0, tol=0.0001, validation_fraction=0.1,\n              verbose=0, warm_start=False),\n          store_train_meta_features=False, use_clones=True,\n          use_features_in_secondary=False, use_probas=False, verbose=0). Check the list of available parameters with `estimator.get_params().keys()`.\n\"\"\"",
      "\nThe above exception was the direct cause of the following exception:\n",
      "\u001b[1;31mValueError\u001b[0m                                Traceback (most recent call last)",
      "\u001b[1;32m<ipython-input-104-d89d7bcd07fc>\u001b[0m in \u001b[0;36m<module>\u001b[1;34m\u001b[0m\n\u001b[1;32m----> 1\u001b[1;33m \u001b[0mmodel\u001b[0m \u001b[1;33m=\u001b[0m \u001b[0mcheck_model\u001b[0m\u001b[1;33m(\u001b[0m\u001b[0mtrain\u001b[0m\u001b[1;33m,\u001b[0m \u001b[0mpredictors\u001b[0m\u001b[1;33m)\u001b[0m\u001b[1;33m\u001b[0m\u001b[1;33m\u001b[0m\u001b[0m\n\u001b[0m",
      "\u001b[1;32m<ipython-input-103-b0eca85a9dc2>\u001b[0m in \u001b[0;36mcheck_model\u001b[1;34m(data, predictors)\u001b[0m\n\u001b[0;32m     24\u001b[0m         verbose=1)\n\u001b[0;32m     25\u001b[0m     grid_search = grid_search.fit(data[predictors], \n\u001b[1;32m---> 26\u001b[1;33m                                   data['label'])\n\u001b[0m\u001b[0;32m     27\u001b[0m     \u001b[1;32mreturn\u001b[0m \u001b[0mgrid_search\u001b[0m\u001b[1;33m\u001b[0m\u001b[1;33m\u001b[0m\u001b[0m\n",
      "\u001b[1;32mC:\\ProgramData\\Anaconda3\\lib\\site-packages\\sklearn\\model_selection\\_search.py\u001b[0m in \u001b[0;36mfit\u001b[1;34m(self, X, y, groups, **fit_params)\u001b[0m\n\u001b[0;32m    720\u001b[0m                 \u001b[1;32mreturn\u001b[0m \u001b[0mresults_container\u001b[0m\u001b[1;33m[\u001b[0m\u001b[1;36m0\u001b[0m\u001b[1;33m]\u001b[0m\u001b[1;33m\u001b[0m\u001b[1;33m\u001b[0m\u001b[0m\n\u001b[0;32m    721\u001b[0m \u001b[1;33m\u001b[0m\u001b[0m\n\u001b[1;32m--> 722\u001b[1;33m             \u001b[0mself\u001b[0m\u001b[1;33m.\u001b[0m\u001b[0m_run_search\u001b[0m\u001b[1;33m(\u001b[0m\u001b[0mevaluate_candidates\u001b[0m\u001b[1;33m)\u001b[0m\u001b[1;33m\u001b[0m\u001b[1;33m\u001b[0m\u001b[0m\n\u001b[0m\u001b[0;32m    723\u001b[0m \u001b[1;33m\u001b[0m\u001b[0m\n\u001b[0;32m    724\u001b[0m         \u001b[0mresults\u001b[0m \u001b[1;33m=\u001b[0m \u001b[0mresults_container\u001b[0m\u001b[1;33m[\u001b[0m\u001b[1;36m0\u001b[0m\u001b[1;33m]\u001b[0m\u001b[1;33m\u001b[0m\u001b[1;33m\u001b[0m\u001b[0m\n",
      "\u001b[1;32mC:\\ProgramData\\Anaconda3\\lib\\site-packages\\sklearn\\model_selection\\_search.py\u001b[0m in \u001b[0;36m_run_search\u001b[1;34m(self, evaluate_candidates)\u001b[0m\n\u001b[0;32m   1189\u001b[0m     \u001b[1;32mdef\u001b[0m \u001b[0m_run_search\u001b[0m\u001b[1;33m(\u001b[0m\u001b[0mself\u001b[0m\u001b[1;33m,\u001b[0m \u001b[0mevaluate_candidates\u001b[0m\u001b[1;33m)\u001b[0m\u001b[1;33m:\u001b[0m\u001b[1;33m\u001b[0m\u001b[1;33m\u001b[0m\u001b[0m\n\u001b[0;32m   1190\u001b[0m         \u001b[1;34m\"\"\"Search all candidates in param_grid\"\"\"\u001b[0m\u001b[1;33m\u001b[0m\u001b[1;33m\u001b[0m\u001b[0m\n\u001b[1;32m-> 1191\u001b[1;33m         \u001b[0mevaluate_candidates\u001b[0m\u001b[1;33m(\u001b[0m\u001b[0mParameterGrid\u001b[0m\u001b[1;33m(\u001b[0m\u001b[0mself\u001b[0m\u001b[1;33m.\u001b[0m\u001b[0mparam_grid\u001b[0m\u001b[1;33m)\u001b[0m\u001b[1;33m)\u001b[0m\u001b[1;33m\u001b[0m\u001b[1;33m\u001b[0m\u001b[0m\n\u001b[0m\u001b[0;32m   1192\u001b[0m \u001b[1;33m\u001b[0m\u001b[0m\n\u001b[0;32m   1193\u001b[0m \u001b[1;33m\u001b[0m\u001b[0m\n",
      "\u001b[1;32mC:\\ProgramData\\Anaconda3\\lib\\site-packages\\sklearn\\model_selection\\_search.py\u001b[0m in \u001b[0;36mevaluate_candidates\u001b[1;34m(candidate_params)\u001b[0m\n\u001b[0;32m    709\u001b[0m                                \u001b[1;32mfor\u001b[0m \u001b[0mparameters\u001b[0m\u001b[1;33m,\u001b[0m \u001b[1;33m(\u001b[0m\u001b[0mtrain\u001b[0m\u001b[1;33m,\u001b[0m \u001b[0mtest\u001b[0m\u001b[1;33m)\u001b[0m\u001b[1;33m\u001b[0m\u001b[1;33m\u001b[0m\u001b[0m\n\u001b[0;32m    710\u001b[0m                                in product(candidate_params,\n\u001b[1;32m--> 711\u001b[1;33m                                           cv.split(X, y, groups)))\n\u001b[0m\u001b[0;32m    712\u001b[0m \u001b[1;33m\u001b[0m\u001b[0m\n\u001b[0;32m    713\u001b[0m                 \u001b[0mall_candidate_params\u001b[0m\u001b[1;33m.\u001b[0m\u001b[0mextend\u001b[0m\u001b[1;33m(\u001b[0m\u001b[0mcandidate_params\u001b[0m\u001b[1;33m)\u001b[0m\u001b[1;33m\u001b[0m\u001b[1;33m\u001b[0m\u001b[0m\n",
      "\u001b[1;32mC:\\ProgramData\\Anaconda3\\lib\\site-packages\\sklearn\\externals\\joblib\\parallel.py\u001b[0m in \u001b[0;36m__call__\u001b[1;34m(self, iterable)\u001b[0m\n\u001b[0;32m    928\u001b[0m \u001b[1;33m\u001b[0m\u001b[0m\n\u001b[0;32m    929\u001b[0m             \u001b[1;32mwith\u001b[0m \u001b[0mself\u001b[0m\u001b[1;33m.\u001b[0m\u001b[0m_backend\u001b[0m\u001b[1;33m.\u001b[0m\u001b[0mretrieval_context\u001b[0m\u001b[1;33m(\u001b[0m\u001b[1;33m)\u001b[0m\u001b[1;33m:\u001b[0m\u001b[1;33m\u001b[0m\u001b[1;33m\u001b[0m\u001b[0m\n\u001b[1;32m--> 930\u001b[1;33m                 \u001b[0mself\u001b[0m\u001b[1;33m.\u001b[0m\u001b[0mretrieve\u001b[0m\u001b[1;33m(\u001b[0m\u001b[1;33m)\u001b[0m\u001b[1;33m\u001b[0m\u001b[1;33m\u001b[0m\u001b[0m\n\u001b[0m\u001b[0;32m    931\u001b[0m             \u001b[1;31m# Make sure that we get a last message telling us we are done\u001b[0m\u001b[1;33m\u001b[0m\u001b[1;33m\u001b[0m\u001b[1;33m\u001b[0m\u001b[0m\n\u001b[0;32m    932\u001b[0m             \u001b[0melapsed_time\u001b[0m \u001b[1;33m=\u001b[0m \u001b[0mtime\u001b[0m\u001b[1;33m.\u001b[0m\u001b[0mtime\u001b[0m\u001b[1;33m(\u001b[0m\u001b[1;33m)\u001b[0m \u001b[1;33m-\u001b[0m \u001b[0mself\u001b[0m\u001b[1;33m.\u001b[0m\u001b[0m_start_time\u001b[0m\u001b[1;33m\u001b[0m\u001b[1;33m\u001b[0m\u001b[0m\n",
      "\u001b[1;32mC:\\ProgramData\\Anaconda3\\lib\\site-packages\\sklearn\\externals\\joblib\\parallel.py\u001b[0m in \u001b[0;36mretrieve\u001b[1;34m(self)\u001b[0m\n\u001b[0;32m    831\u001b[0m             \u001b[1;32mtry\u001b[0m\u001b[1;33m:\u001b[0m\u001b[1;33m\u001b[0m\u001b[1;33m\u001b[0m\u001b[0m\n\u001b[0;32m    832\u001b[0m                 \u001b[1;32mif\u001b[0m \u001b[0mgetattr\u001b[0m\u001b[1;33m(\u001b[0m\u001b[0mself\u001b[0m\u001b[1;33m.\u001b[0m\u001b[0m_backend\u001b[0m\u001b[1;33m,\u001b[0m \u001b[1;34m'supports_timeout'\u001b[0m\u001b[1;33m,\u001b[0m \u001b[1;32mFalse\u001b[0m\u001b[1;33m)\u001b[0m\u001b[1;33m:\u001b[0m\u001b[1;33m\u001b[0m\u001b[1;33m\u001b[0m\u001b[0m\n\u001b[1;32m--> 833\u001b[1;33m                     \u001b[0mself\u001b[0m\u001b[1;33m.\u001b[0m\u001b[0m_output\u001b[0m\u001b[1;33m.\u001b[0m\u001b[0mextend\u001b[0m\u001b[1;33m(\u001b[0m\u001b[0mjob\u001b[0m\u001b[1;33m.\u001b[0m\u001b[0mget\u001b[0m\u001b[1;33m(\u001b[0m\u001b[0mtimeout\u001b[0m\u001b[1;33m=\u001b[0m\u001b[0mself\u001b[0m\u001b[1;33m.\u001b[0m\u001b[0mtimeout\u001b[0m\u001b[1;33m)\u001b[0m\u001b[1;33m)\u001b[0m\u001b[1;33m\u001b[0m\u001b[1;33m\u001b[0m\u001b[0m\n\u001b[0m\u001b[0;32m    834\u001b[0m                 \u001b[1;32melse\u001b[0m\u001b[1;33m:\u001b[0m\u001b[1;33m\u001b[0m\u001b[1;33m\u001b[0m\u001b[0m\n\u001b[0;32m    835\u001b[0m                     \u001b[0mself\u001b[0m\u001b[1;33m.\u001b[0m\u001b[0m_output\u001b[0m\u001b[1;33m.\u001b[0m\u001b[0mextend\u001b[0m\u001b[1;33m(\u001b[0m\u001b[0mjob\u001b[0m\u001b[1;33m.\u001b[0m\u001b[0mget\u001b[0m\u001b[1;33m(\u001b[0m\u001b[1;33m)\u001b[0m\u001b[1;33m)\u001b[0m\u001b[1;33m\u001b[0m\u001b[1;33m\u001b[0m\u001b[0m\n",
      "\u001b[1;32mC:\\ProgramData\\Anaconda3\\lib\\site-packages\\sklearn\\externals\\joblib\\_parallel_backends.py\u001b[0m in \u001b[0;36mwrap_future_result\u001b[1;34m(future, timeout)\u001b[0m\n\u001b[0;32m    519\u001b[0m         AsyncResults.get from multiprocessing.\"\"\"\n\u001b[0;32m    520\u001b[0m         \u001b[1;32mtry\u001b[0m\u001b[1;33m:\u001b[0m\u001b[1;33m\u001b[0m\u001b[1;33m\u001b[0m\u001b[0m\n\u001b[1;32m--> 521\u001b[1;33m             \u001b[1;32mreturn\u001b[0m \u001b[0mfuture\u001b[0m\u001b[1;33m.\u001b[0m\u001b[0mresult\u001b[0m\u001b[1;33m(\u001b[0m\u001b[0mtimeout\u001b[0m\u001b[1;33m=\u001b[0m\u001b[0mtimeout\u001b[0m\u001b[1;33m)\u001b[0m\u001b[1;33m\u001b[0m\u001b[1;33m\u001b[0m\u001b[0m\n\u001b[0m\u001b[0;32m    522\u001b[0m         \u001b[1;32mexcept\u001b[0m \u001b[0mLokyTimeoutError\u001b[0m\u001b[1;33m:\u001b[0m\u001b[1;33m\u001b[0m\u001b[1;33m\u001b[0m\u001b[0m\n\u001b[0;32m    523\u001b[0m             \u001b[1;32mraise\u001b[0m \u001b[0mTimeoutError\u001b[0m\u001b[1;33m(\u001b[0m\u001b[1;33m)\u001b[0m\u001b[1;33m\u001b[0m\u001b[1;33m\u001b[0m\u001b[0m\n",
      "\u001b[1;32mC:\\ProgramData\\Anaconda3\\lib\\concurrent\\futures\\_base.py\u001b[0m in \u001b[0;36mresult\u001b[1;34m(self, timeout)\u001b[0m\n\u001b[0;32m    430\u001b[0m                 \u001b[1;32mraise\u001b[0m \u001b[0mCancelledError\u001b[0m\u001b[1;33m(\u001b[0m\u001b[1;33m)\u001b[0m\u001b[1;33m\u001b[0m\u001b[1;33m\u001b[0m\u001b[0m\n\u001b[0;32m    431\u001b[0m             \u001b[1;32melif\u001b[0m \u001b[0mself\u001b[0m\u001b[1;33m.\u001b[0m\u001b[0m_state\u001b[0m \u001b[1;33m==\u001b[0m \u001b[0mFINISHED\u001b[0m\u001b[1;33m:\u001b[0m\u001b[1;33m\u001b[0m\u001b[1;33m\u001b[0m\u001b[0m\n\u001b[1;32m--> 432\u001b[1;33m                 \u001b[1;32mreturn\u001b[0m \u001b[0mself\u001b[0m\u001b[1;33m.\u001b[0m\u001b[0m__get_result\u001b[0m\u001b[1;33m(\u001b[0m\u001b[1;33m)\u001b[0m\u001b[1;33m\u001b[0m\u001b[1;33m\u001b[0m\u001b[0m\n\u001b[0m\u001b[0;32m    433\u001b[0m             \u001b[1;32melse\u001b[0m\u001b[1;33m:\u001b[0m\u001b[1;33m\u001b[0m\u001b[1;33m\u001b[0m\u001b[0m\n\u001b[0;32m    434\u001b[0m                 \u001b[1;32mraise\u001b[0m \u001b[0mTimeoutError\u001b[0m\u001b[1;33m(\u001b[0m\u001b[1;33m)\u001b[0m\u001b[1;33m\u001b[0m\u001b[1;33m\u001b[0m\u001b[0m\n",
      "\u001b[1;32mC:\\ProgramData\\Anaconda3\\lib\\concurrent\\futures\\_base.py\u001b[0m in \u001b[0;36m__get_result\u001b[1;34m(self)\u001b[0m\n\u001b[0;32m    382\u001b[0m     \u001b[1;32mdef\u001b[0m \u001b[0m__get_result\u001b[0m\u001b[1;33m(\u001b[0m\u001b[0mself\u001b[0m\u001b[1;33m)\u001b[0m\u001b[1;33m:\u001b[0m\u001b[1;33m\u001b[0m\u001b[1;33m\u001b[0m\u001b[0m\n\u001b[0;32m    383\u001b[0m         \u001b[1;32mif\u001b[0m \u001b[0mself\u001b[0m\u001b[1;33m.\u001b[0m\u001b[0m_exception\u001b[0m\u001b[1;33m:\u001b[0m\u001b[1;33m\u001b[0m\u001b[1;33m\u001b[0m\u001b[0m\n\u001b[1;32m--> 384\u001b[1;33m             \u001b[1;32mraise\u001b[0m \u001b[0mself\u001b[0m\u001b[1;33m.\u001b[0m\u001b[0m_exception\u001b[0m\u001b[1;33m\u001b[0m\u001b[1;33m\u001b[0m\u001b[0m\n\u001b[0m\u001b[0;32m    385\u001b[0m         \u001b[1;32melse\u001b[0m\u001b[1;33m:\u001b[0m\u001b[1;33m\u001b[0m\u001b[1;33m\u001b[0m\u001b[0m\n\u001b[0;32m    386\u001b[0m             \u001b[1;32mreturn\u001b[0m \u001b[0mself\u001b[0m\u001b[1;33m.\u001b[0m\u001b[0m_result\u001b[0m\u001b[1;33m\u001b[0m\u001b[1;33m\u001b[0m\u001b[0m\n",
      "\u001b[1;31mValueError\u001b[0m: Invalid parameter alpha for estimator StackingClassifier(average_probas=False,\n          classifiers=[RandomForestClassifier(bootstrap=False, class_weight=None, criterion='gini',\n            max_depth=4, max_features='auto', max_leaf_nodes=None,\n            min_impurity_decrease=0.0, min_impurity_split=None,\n            min_samples_leaf=10, min_samples_split=9,\n            min_weight_fr...       reg_alpha=0, reg_lambda=1, scale_pos_weight=1, seed=None,\n       silent=True, subsample=0.7)],\n          drop_last_proba=False,\n          meta_classifier=GradientBoostingClassifier(criterion='friedman_mse', init=None,\n              learning_rate=0.1, loss='huber', max_depth=4,\n              max_features=None, max_leaf_nodes=None,\n              min_impurity_decrease=0.0, min_impurity_split=None,\n              min_samples_leaf=15, min_s...      subsample=1.0, tol=0.0001, validation_fraction=0.1,\n              verbose=0, warm_start=False),\n          store_train_meta_features=False, use_clones=True,\n          use_features_in_secondary=False, use_probas=False, verbose=0). Check the list of available parameters with `estimator.get_params().keys()`."
     ]
    }
   ],
   "source": [
    "model = check_model(train, predictors)"
   ]
  },
  {
   "cell_type": "code",
   "execution_count": 87,
   "metadata": {},
   "outputs": [
    {
     "name": "stderr",
     "output_type": "stream",
     "text": [
      "C:\\ProgramData\\Anaconda3\\lib\\site-packages\\sklearn\\pipeline.py:381: DataConversionWarning: Data with input dtype int32, int64, float64, object were all converted to float64 by StandardScaler.\n",
      "  Xt = transform.transform(Xt)\n"
     ]
    }
   ],
   "source": [
    "y_valid_pred = model.predict_proba(valid[predictors])\n",
    "valid1 = valid.copy()\n",
    "valid1['pred_prob'] = y_valid_pred[:, 1]"
   ]
  },
  {
   "cell_type": "code",
   "execution_count": 88,
   "metadata": {},
   "outputs": [
    {
     "name": "stdout",
     "output_type": "stream",
     "text": [
      "Validation AUC: 0.838, Accuracy: 0.952\n"
     ]
    }
   ],
   "source": [
    "from sklearn.metrics import roc_auc_score, accuracy_score\n",
    "auc_score = roc_auc_score(y_true=valid.label, y_score=y_valid_pred[:,1])\n",
    "acc = accuracy_score(y_true=valid.label, y_pred=y_valid_pred.argmax(axis=1))\n",
    "print(\"Validation AUC: {:.3f}, Accuracy: {:.3f}\".format(auc_score, acc))"
   ]
  },
  {
   "cell_type": "code",
   "execution_count": 89,
   "metadata": {},
   "outputs": [],
   "source": [
    "import lightgbm as lgb"
   ]
  },
  {
   "cell_type": "code",
   "execution_count": 90,
   "metadata": {},
   "outputs": [],
   "source": [
    "from sklearn.ensemble import GradientBoostingClassifier, RandomForestClassifier"
   ]
  },
  {
   "cell_type": "code",
   "execution_count": 99,
   "metadata": {},
   "outputs": [],
   "source": [
    "GBoost = GradientBoostingClassifier(n_estimators=50, learning_rate=0.1,\n",
    "                                   max_depth=4,\n",
    "                                   min_samples_leaf=15, min_samples_split=10, \n",
    "                                   loss='huber', random_state =5)"
   ]
  },
  {
   "cell_type": "code",
   "execution_count": 100,
   "metadata": {},
   "outputs": [],
   "source": [
    "model_lgb = lgb.LGBMClassifier(objective='classmethod',num_leaves=5,\n",
    "                              learning_rate=0.1, n_estimators=50,\n",
    "                               bagging_fraction = 0.8,\n",
    "                              bagging_freq = 5, feature_fraction = 0.2319,\n",
    "                              feature_fraction_seed=9, bagging_seed=9,\n",
    "                              min_data_in_leaf =6, min_sum_hessian_in_leaf = 11)"
   ]
  },
  {
   "cell_type": "code",
   "execution_count": 101,
   "metadata": {},
   "outputs": [],
   "source": [
    "rf = RandomForestClassifier(n_estimators=50, min_samples_split=9, min_samples_leaf=10, \n",
    "                           max_depth=4, bootstrap=False)"
   ]
  },
  {
   "cell_type": "code",
   "execution_count": 102,
   "metadata": {},
   "outputs": [],
   "source": [
    "model_xgb = xgb.XGBClassifier(n_estimators=100,\\\n",
    "                                   max_depth=4, \\\n",
    "                                   learning_rate=0.1, \\\n",
    "                                   subsample=0.7, \\\n",
    "                                   colsample_bytree=0.7)"
   ]
  },
  {
   "cell_type": "code",
   "execution_count": 96,
   "metadata": {},
   "outputs": [],
   "source": [
    "from mlxtend.classifier import StackingClassifier"
   ]
  },
  {
   "cell_type": "code",
   "execution_count": null,
   "metadata": {},
   "outputs": [],
   "source": []
  },
  {
   "cell_type": "code",
   "execution_count": 105,
   "metadata": {},
   "outputs": [],
   "source": [
    "stacking = StackingClassifier(classifiers=[rf,model_lgb,model_xgb],meta_classifier=GBoost)"
   ]
  },
  {
   "cell_type": "code",
   "execution_count": null,
   "metadata": {},
   "outputs": [],
   "source": []
  },
  {
   "cell_type": "code",
   "execution_count": null,
   "metadata": {},
   "outputs": [],
   "source": [
    "y_valid_pred = model.predict_proba(valid[predictors])\n",
    "valid1 = valid.copy()\n",
    "valid1['pred_prob'] = y_valid_pred[:, 1]"
   ]
  },
  {
   "cell_type": "code",
   "execution_count": null,
   "metadata": {},
   "outputs": [],
   "source": []
  },
  {
   "cell_type": "code",
   "execution_count": null,
   "metadata": {},
   "outputs": [],
   "source": []
  },
  {
   "cell_type": "code",
   "execution_count": null,
   "metadata": {},
   "outputs": [],
   "source": []
  },
  {
   "cell_type": "markdown",
   "metadata": {},
   "source": [
    "### final predict"
   ]
  },
  {
   "cell_type": "code",
   "execution_count": 76,
   "metadata": {},
   "outputs": [],
   "source": [
    "ntest['User_id'] = user_id_test.reset_index(drop = True)"
   ]
  },
  {
   "cell_type": "code",
   "execution_count": 77,
   "metadata": {},
   "outputs": [
    {
     "name": "stdout",
     "output_type": "stream",
     "text": [
      "(306313, 15)\n"
     ]
    },
    {
     "name": "stderr",
     "output_type": "stream",
     "text": [
      "C:\\ProgramData\\Anaconda3\\lib\\site-packages\\sklearn\\pipeline.py:381: DataConversionWarning: Data with input dtype int32, int64, float64, object were all converted to float64 by StandardScaler.\n",
      "  Xt = transform.transform(Xt)\n"
     ]
    },
    {
     "name": "stdout",
     "output_type": "stream",
     "text": [
      "(306313, 11)\n"
     ]
    }
   ],
   "source": [
    "targetset = ntest.copy()\n",
    "print(targetset.shape)\n",
    "ntest =ntest[~ntest.Coupon_id.isna()]\n",
    "ntest.reset_index(drop=True, inplace=True)\n",
    "testset = ntest[predictors].copy()\n",
    "\n",
    "y_test_pred = model.predict_proba(testset[predictors])\n",
    "test1 = testset.copy()\n",
    "test1['pred_prob'] = y_test_pred[:, 1]\n",
    "print(test1.shape)"
   ]
  },
  {
   "cell_type": "code",
   "execution_count": 78,
   "metadata": {},
   "outputs": [
    {
     "name": "stdout",
     "output_type": "stream",
     "text": [
      "(306313, 4)\n"
     ]
    }
   ],
   "source": [
    "output = pd.concat((targetset[[\"User_id\", \"Coupon_id\", \"Date_received\"]], test1[\"pred_prob\"]), axis=1)\n",
    "print(output.shape)\n",
    "\n",
    "output.loc[:, \"User_id\"] = output[\"User_id\"].apply(lambda x:str(int(x)))\n",
    "output.loc[:, \"Coupon_id\"] = output[\"Coupon_id\"].apply(lambda x:str(int(float(x))))\n",
    "output.loc[:, \"Date_received\"] = output[\"Date_received\"].apply(lambda x:str(x)[0:10].replace('-',''))\n",
    "output[\"uid\"] = output[[\"User_id\", \"Coupon_id\", \"Date_received\"]].apply(lambda x: '_'.join(x.values), axis=1)\n",
    "output.reset_index(drop=True, inplace=True)"
   ]
  },
  {
   "cell_type": "code",
   "execution_count": 79,
   "metadata": {},
   "outputs": [
    {
     "data": {
      "text/plain": [
       "(306313, 5)"
      ]
     },
     "execution_count": 79,
     "metadata": {},
     "output_type": "execute_result"
    }
   ],
   "source": [
    "output.shape"
   ]
  },
  {
   "cell_type": "code",
   "execution_count": 80,
   "metadata": {
    "scrolled": true
   },
   "outputs": [
    {
     "data": {
      "text/html": [
       "<div>\n",
       "<style scoped>\n",
       "    .dataframe tbody tr th:only-of-type {\n",
       "        vertical-align: middle;\n",
       "    }\n",
       "\n",
       "    .dataframe tbody tr th {\n",
       "        vertical-align: top;\n",
       "    }\n",
       "\n",
       "    .dataframe thead th {\n",
       "        text-align: right;\n",
       "    }\n",
       "</style>\n",
       "<table border=\"1\" class=\"dataframe\">\n",
       "  <thead>\n",
       "    <tr style=\"text-align: right;\">\n",
       "      <th></th>\n",
       "      <th>uid</th>\n",
       "      <th>label</th>\n",
       "    </tr>\n",
       "  </thead>\n",
       "  <tbody>\n",
       "    <tr>\n",
       "      <th>0</th>\n",
       "      <td>1000020_2705_20160519</td>\n",
       "      <td>0.2050</td>\n",
       "    </tr>\n",
       "    <tr>\n",
       "      <th>1</th>\n",
       "      <td>1000020_8192_20160513</td>\n",
       "      <td>0.2032</td>\n",
       "    </tr>\n",
       "    <tr>\n",
       "      <th>2</th>\n",
       "      <td>1000065_1455_20160527</td>\n",
       "      <td>0.1057</td>\n",
       "    </tr>\n",
       "    <tr>\n",
       "      <th>3</th>\n",
       "      <td>1000085_8067_20160513</td>\n",
       "      <td>0.1682</td>\n",
       "    </tr>\n",
       "    <tr>\n",
       "      <th>4</th>\n",
       "      <td>1000086_2418_20160613</td>\n",
       "      <td>0.0522</td>\n",
       "    </tr>\n",
       "  </tbody>\n",
       "</table>\n",
       "</div>"
      ],
      "text/plain": [
       "                     uid  label\n",
       "0  1000020_2705_20160519 0.2050\n",
       "1  1000020_8192_20160513 0.2032\n",
       "2  1000065_1455_20160527 0.1057\n",
       "3  1000085_8067_20160513 0.1682\n",
       "4  1000086_2418_20160613 0.0522"
      ]
     },
     "execution_count": 80,
     "metadata": {},
     "output_type": "execute_result"
    }
   ],
   "source": [
    "### NOTE: YOUR SUBMITION FILE SHOULD HAVE COLUMN NAME: uid, label\n",
    "out = output.groupby(\"uid\", as_index=False).mean()\n",
    "out = out[[\"uid\", \"pred_prob\"]]\n",
    "out.columns = [\"uid\", \"label\"]\n",
    "# out.to_csv(\"baseline_example.csv\", header=[\"uid\", \"label\"], index=False) # submission format\n",
    "out.head()"
   ]
  },
  {
   "cell_type": "code",
   "execution_count": 81,
   "metadata": {},
   "outputs": [],
   "source": [
    "out.to_csv('out5.csv',index = False)"
   ]
  },
  {
   "cell_type": "code",
   "execution_count": 82,
   "metadata": {},
   "outputs": [
    {
     "data": {
      "text/plain": [
       "(304096, 2)"
      ]
     },
     "execution_count": 82,
     "metadata": {},
     "output_type": "execute_result"
    }
   ],
   "source": [
    "out.shape"
   ]
  },
  {
   "cell_type": "code",
   "execution_count": null,
   "metadata": {},
   "outputs": [],
   "source": []
  }
 ],
 "metadata": {
  "kernelspec": {
   "display_name": "Python 3",
   "language": "python",
   "name": "python3"
  },
  "language_info": {
   "codemirror_mode": {
    "name": "ipython",
    "version": 3
   },
   "file_extension": ".py",
   "mimetype": "text/x-python",
   "name": "python",
   "nbconvert_exporter": "python",
   "pygments_lexer": "ipython3",
   "version": "3.7.2"
  }
 },
 "nbformat": 4,
 "nbformat_minor": 2
}
